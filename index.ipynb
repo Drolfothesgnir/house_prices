{
 "cells": [
  {
   "cell_type": "code",
   "execution_count": 1,
   "id": "b9684185",
   "metadata": {},
   "outputs": [],
   "source": [
    "import matplotlib.pyplot as plt\n",
    "import numpy as np\n",
    "import pandas as pd\n",
    "import seaborn as sns\n",
    "\n",
    "from data_consistency_check import check_data_consistency\n",
    "from feature_engineering import engineer_features\n",
    "from utils.load_data import load_data\n",
    "from data_cleaning import clean_data"
   ]
  },
  {
   "cell_type": "code",
   "execution_count": 2,
   "id": "829d8faf",
   "metadata": {},
   "outputs": [],
   "source": [
    "train_df_raw = pd.read_csv(\"data/train.csv\")\n",
    "test_df_raw = pd.read_csv(\"data/test.csv\")\n",
    "train_df = load_data(\"data/train.csv\")\n",
    "train_df = engineer_features(train_df)\n",
    "test_df = load_data(\"data/test.csv\")\n",
    "test_df = engineer_features(test_df)"
   ]
  },
  {
   "cell_type": "code",
   "execution_count": 3,
   "id": "dede13ae",
   "metadata": {},
   "outputs": [
    {
     "name": "stdout",
     "output_type": "stream",
     "text": [
      "(1460, 84)\n",
      "(1459, 83)\n"
     ]
    }
   ],
   "source": [
    "print(train_df.shape)\n",
    "print(test_df.shape)\n",
    "# (1460, 81)"
   ]
  },
  {
   "cell_type": "code",
   "execution_count": 4,
   "id": "fe23bebf",
   "metadata": {},
   "outputs": [
    {
     "name": "stdout",
     "output_type": "stream",
     "text": [
      "<class 'pandas.core.frame.DataFrame'>\n",
      "RangeIndex: 1460 entries, 0 to 1459\n",
      "Data columns (total 84 columns):\n",
      " #   Column                Non-Null Count  Dtype   \n",
      "---  ------                --------------  -----   \n",
      " 0   Id                    1460 non-null   int32   \n",
      " 1   MSSubClass            1460 non-null   category\n",
      " 2   MSZoning              1460 non-null   category\n",
      " 3   LotFrontage           1201 non-null   float32 \n",
      " 4   LotArea               1460 non-null   int32   \n",
      " 5   Street                1460 non-null   category\n",
      " 6   Alley                 1460 non-null   category\n",
      " 7   LotShape              1460 non-null   category\n",
      " 8   LandContour           1460 non-null   category\n",
      " 9   Utilities             1460 non-null   category\n",
      " 10  LotConfig             1460 non-null   category\n",
      " 11  LandSlope             1460 non-null   category\n",
      " 12  Neighborhood          1460 non-null   category\n",
      " 13  Condition1            1460 non-null   category\n",
      " 14  Condition2            1460 non-null   category\n",
      " 15  BldgType              1460 non-null   category\n",
      " 16  HouseStyle            1460 non-null   category\n",
      " 17  OverallQual           1460 non-null   category\n",
      " 18  OverallCond           1460 non-null   category\n",
      " 19  YearBuilt             1460 non-null   int32   \n",
      " 20  YearRemodAdd          1460 non-null   int32   \n",
      " 21  RoofStyle             1460 non-null   category\n",
      " 22  RoofMatl              1460 non-null   category\n",
      " 23  Exterior1st           1460 non-null   category\n",
      " 24  Exterior2nd           1460 non-null   category\n",
      " 25  MasVnrType            1460 non-null   category\n",
      " 26  MasVnrArea            1460 non-null   float32 \n",
      " 27  ExterQual             1460 non-null   category\n",
      " 28  ExterCond             1460 non-null   category\n",
      " 29  Foundation            1460 non-null   category\n",
      " 30  BsmtQual              1460 non-null   category\n",
      " 31  BsmtCond              1460 non-null   category\n",
      " 32  BsmtExposure          1460 non-null   category\n",
      " 33  BsmtFinType1          1460 non-null   category\n",
      " 34  BsmtFinSF1            1460 non-null   int32   \n",
      " 35  BsmtFinType2          1460 non-null   category\n",
      " 36  BsmtFinSF2            1460 non-null   int32   \n",
      " 37  BsmtUnfSF             1460 non-null   int32   \n",
      " 38  TotalBsmtSF           1460 non-null   int32   \n",
      " 39  Heating               1460 non-null   category\n",
      " 40  HeatingQC             1460 non-null   category\n",
      " 41  CentralAir            1460 non-null   category\n",
      " 42  Electrical            1459 non-null   category\n",
      " 43  1stFlrSF              1460 non-null   int32   \n",
      " 44  2ndFlrSF              1460 non-null   int32   \n",
      " 45  LowQualFinSF          1460 non-null   int32   \n",
      " 46  GrLivArea             1460 non-null   int32   \n",
      " 47  BsmtFullBath          1460 non-null   int32   \n",
      " 48  BsmtHalfBath          1460 non-null   int32   \n",
      " 49  FullBath              1460 non-null   int32   \n",
      " 50  HalfBath              1460 non-null   int32   \n",
      " 51  BedroomAbvGr          1460 non-null   int32   \n",
      " 52  KitchenAbvGr          1460 non-null   int32   \n",
      " 53  KitchenQual           1460 non-null   category\n",
      " 54  TotRmsAbvGrd          1460 non-null   int32   \n",
      " 55  Functional            1460 non-null   category\n",
      " 56  Fireplaces            1460 non-null   int32   \n",
      " 57  FireplaceQu           1460 non-null   category\n",
      " 58  GarageType            1460 non-null   category\n",
      " 59  GarageYrBlt           1460 non-null   int32   \n",
      " 60  GarageFinish          1460 non-null   category\n",
      " 61  GarageCars            1460 non-null   int32   \n",
      " 62  GarageArea            1460 non-null   int32   \n",
      " 63  GarageQual            1460 non-null   category\n",
      " 64  GarageCond            1460 non-null   category\n",
      " 65  PavedDrive            1460 non-null   category\n",
      " 66  WoodDeckSF            1460 non-null   int32   \n",
      " 67  OpenPorchSF           1460 non-null   int32   \n",
      " 68  EnclosedPorch         1460 non-null   int32   \n",
      " 69  3SsnPorch             1460 non-null   int32   \n",
      " 70  ScreenPorch           1460 non-null   int32   \n",
      " 71  PoolArea              1460 non-null   int32   \n",
      " 72  PoolQC                1460 non-null   category\n",
      " 73  Fence                 1460 non-null   category\n",
      " 74  MiscFeature           1460 non-null   category\n",
      " 75  MiscVal               1460 non-null   int32   \n",
      " 76  MoSold                1460 non-null   int32   \n",
      " 77  YrSold                1460 non-null   int32   \n",
      " 78  SaleType              1460 non-null   category\n",
      " 79  SaleCondition         1460 non-null   category\n",
      " 80  SalePrice             1460 non-null   int32   \n",
      " 81  lot_frontage_missing  1460 non-null   bool    \n",
      " 82  has_garage            1460 non-null   int32   \n",
      " 83  has_basement          1460 non-null   int32   \n",
      "dtypes: bool(1), category(46), float32(2), int32(35)\n",
      "memory usage: 290.7 KB\n",
      "None\n"
     ]
    }
   ],
   "source": [
    "print(train_df.info())"
   ]
  },
  {
   "cell_type": "code",
   "execution_count": 5,
   "id": "abd2a6b4",
   "metadata": {},
   "outputs": [],
   "source": [
    "pd.set_option(\"display.max_columns\", None)\n",
    "pd.set_option(\"display.max_rows\", None)\n",
    "pd.set_option(\"display.width\", None)"
   ]
  },
  {
   "cell_type": "code",
   "execution_count": 6,
   "id": "6185e9e3",
   "metadata": {},
   "outputs": [
    {
     "name": "stdout",
     "output_type": "stream",
     "text": [
      "train df NA counts\n",
      "LotFrontage    259\n",
      "Electrical       1\n",
      "dtype: int64\n"
     ]
    }
   ],
   "source": [
    "na_info = train_df.isna().sum()[train_df.isna().sum() > 0]\n",
    "print(\"train df NA counts\")\n",
    "print(na_info)"
   ]
  },
  {
   "cell_type": "code",
   "execution_count": 7,
   "id": "f546889f",
   "metadata": {},
   "outputs": [
    {
     "name": "stdout",
     "output_type": "stream",
     "text": [
      "test df NA counts\n",
      "MSZoning         4\n",
      "LotFrontage    227\n",
      "Utilities        2\n",
      "Exterior1st      1\n",
      "Exterior2nd      1\n",
      "KitchenQual      1\n",
      "Functional       2\n",
      "SaleType         1\n",
      "dtype: int64\n"
     ]
    }
   ],
   "source": [
    "na_info = test_df.isna().sum()[test_df.isna().sum() > 0]\n",
    "print(\"test df NA counts\")\n",
    "print(na_info)"
   ]
  },
  {
   "cell_type": "code",
   "execution_count": 8,
   "id": "c71c24f4",
   "metadata": {},
   "outputs": [],
   "source": [
    "# Checking data consistency after initial cleaning\n",
    "train_df_check = check_data_consistency(train_df)\n",
    "test_df_check = check_data_consistency(test_df)"
   ]
  },
  {
   "cell_type": "code",
   "execution_count": 9,
   "id": "2f056e39-9765-40f6-97a3-e22b8e4171bb",
   "metadata": {},
   "outputs": [],
   "source": [
    "# I've decided to change MasVnrType for houses with to small MasVnrArea (< 10 sf) to None\n",
    "# and impute MasVnrType with BrkFace for None MasVnrType houses with normal MasVnrArea\n",
    "train_df = clean_data(train_df)\n",
    "test_df = clean_data(test_df)\n",
    "train_df_check = check_data_consistency(train_df)\n",
    "test_df_check = check_data_consistency(test_df)"
   ]
  },
  {
   "cell_type": "code",
   "execution_count": 10,
   "id": "c1ea1732-b109-4c2e-b205-a75bb27c5cb5",
   "metadata": {},
   "outputs": [
    {
     "name": "stdout",
     "output_type": "stream",
     "text": [
      "0\n",
      "0\n"
     ]
    }
   ],
   "source": [
    "print(sum(~train_df_check[\"garage_type_consistent\"]))\n",
    "print(sum(~test_df_check[\"garage_type_consistent\"]))"
   ]
  },
  {
   "cell_type": "code",
   "execution_count": 11,
   "id": "51b9ad29-edca-4c27-9215-7f3c34176f73",
   "metadata": {},
   "outputs": [
    {
     "name": "stdout",
     "output_type": "stream",
     "text": [
      "0\n",
      "0\n"
     ]
    }
   ],
   "source": [
    "print(sum(~train_df_check[\"garage_features_consistent\"]))\n",
    "print(sum(~test_df_check[\"garage_features_consistent\"]))"
   ]
  },
  {
   "cell_type": "code",
   "execution_count": 12,
   "id": "a075a3d3-c230-4877-9afd-cfde2e120371",
   "metadata": {},
   "outputs": [
    {
     "name": "stdout",
     "output_type": "stream",
     "text": [
      "55\n",
      "51\n"
     ]
    }
   ],
   "source": [
    "print(sum(~train_df_check[\"garage_area_reasonable\"]))\n",
    "print(sum(~test_df_check[\"garage_area_reasonable\"]))\n",
    "# That's fine"
   ]
  },
  {
   "cell_type": "code",
   "execution_count": 13,
   "id": "d535d792-7c9d-4a60-9618-db455264d8b0",
   "metadata": {},
   "outputs": [
    {
     "name": "stdout",
     "output_type": "stream",
     "text": [
      "0\n",
      "0\n"
     ]
    }
   ],
   "source": [
    "print(sum(~train_df_check[\"basement_features_consistent\"]))\n",
    "print(sum(~test_df_check[\"basement_features_consistent\"]))"
   ]
  },
  {
   "cell_type": "code",
   "execution_count": 14,
   "id": "971b9dfe-6430-4a13-8c96-fc69f6831e85",
   "metadata": {},
   "outputs": [
    {
     "name": "stdout",
     "output_type": "stream",
     "text": [
      "0\n",
      "0\n"
     ]
    }
   ],
   "source": [
    "print(sum(~train_df_check[\"has_consistent_second_finished_area\"]))\n",
    "print(sum(~test_df_check[\"has_consistent_second_finished_area\"]))"
   ]
  },
  {
   "cell_type": "code",
   "execution_count": 15,
   "id": "d391a8b5-2c21-4654-ae98-ce229164fc53",
   "metadata": {},
   "outputs": [
    {
     "name": "stdout",
     "output_type": "stream",
     "text": [
      "0\n",
      "0\n"
     ]
    }
   ],
   "source": [
    "print(sum(~train_df_check[\"basement_areas_match\"]))\n",
    "print(sum(~test_df_check[\"basement_areas_match\"]))"
   ]
  },
  {
   "cell_type": "code",
   "execution_count": 16,
   "id": "4c39594a-cc2b-4c4e-a76f-553bfe44dd6a",
   "metadata": {},
   "outputs": [
    {
     "name": "stdout",
     "output_type": "stream",
     "text": [
      "0\n",
      "0\n"
     ]
    }
   ],
   "source": [
    "print(sum(~train_df_check[\"mas_vnr_consistent\"]))\n",
    "print(sum(~test_df_check[\"mas_vnr_consistent\"]))"
   ]
  },
  {
   "cell_type": "code",
   "execution_count": 17,
   "id": "cf64111e-a724-46cf-a55f-20b0525e5470",
   "metadata": {},
   "outputs": [
    {
     "name": "stdout",
     "output_type": "stream",
     "text": [
      "train df NA counts\n",
      "LotFrontage    259\n",
      "dtype: int64\n"
     ]
    }
   ],
   "source": [
    "na_info = train_df.isna().sum()[train_df.isna().sum() > 0]\n",
    "print(\"train df NA counts\")\n",
    "print(na_info)"
   ]
  },
  {
   "cell_type": "code",
   "execution_count": 18,
   "id": "5d34d6f3-34c3-49d3-89ca-956776f3f9e1",
   "metadata": {
    "lines_to_next_cell": 2
   },
   "outputs": [
    {
     "name": "stdout",
     "output_type": "stream",
     "text": [
      "test df NA counts\n",
      "LotFrontage    227\n",
      "KitchenQual      1\n",
      "SaleType         1\n",
      "dtype: int64\n"
     ]
    }
   ],
   "source": [
    "na_info = test_df.isna().sum()[test_df.isna().sum() > 0]\n",
    "print(\"test df NA counts\")\n",
    "print(na_info)"
   ]
  }
 ],
 "metadata": {
  "jupytext": {
   "cell_metadata_filter": "-all",
   "main_language": "python",
   "notebook_metadata_filter": "-all"
  },
  "kernelspec": {
   "display_name": "Python 3 (ipykernel)",
   "language": "python",
   "name": "python3"
  },
  "language_info": {
   "codemirror_mode": {
    "name": "ipython",
    "version": 3
   },
   "file_extension": ".py",
   "mimetype": "text/x-python",
   "name": "python",
   "nbconvert_exporter": "python",
   "pygments_lexer": "ipython3",
   "version": "3.12.7"
  }
 },
 "nbformat": 4,
 "nbformat_minor": 5
}
