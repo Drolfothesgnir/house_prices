{
 "cells": [
  {
   "cell_type": "code",
   "execution_count": 52,
   "id": "f913eea5-73a7-4199-b7ba-6e67d58141e3",
   "metadata": {},
   "outputs": [],
   "source": [
    "import os\n",
    "import sys\n",
    "from pathlib import Path\n",
    "\n",
    "# Get the absolute path to project root directory\n",
    "project_root = str(Path(os.getcwd()).resolve().parents[0])  # Go up one level if notebook is in subdirectory\n",
    "if os.getcwd() == project_root:\n",
    "    project_root = os.getcwd()  # If notebook is in root directory\n",
    "\n",
    "# Add project root to path\n",
    "if project_root not in sys.path:\n",
    "    sys.path.insert(0, project_root)"
   ]
  },
  {
   "cell_type": "code",
   "execution_count": 53,
   "id": "b9684185",
   "metadata": {},
   "outputs": [],
   "source": [
    "import pandas as pd\n",
    "import numpy as np\n",
    "import matplotlib.pyplot as plt\n",
    "import seaborn as sns\n",
    "from scipy import stats\n",
    "\n",
    "from data_cleaning.data_consistency_check import check_data_consistency\n",
    "from feature_engineering import engineer_features\n",
    "from utils.load_data import load_data\n",
    "from data_cleaning.data_cleaning import clean_data"
   ]
  },
  {
   "cell_type": "code",
   "execution_count": 54,
   "id": "829d8faf",
   "metadata": {},
   "outputs": [],
   "source": [
    "train_df_raw = pd.read_csv(\"data/train.csv\")\n",
    "test_df_raw = pd.read_csv(\"data/test.csv\")\n",
    "train_df = load_data(\"data/train.csv\")\n",
    "train_df = engineer_features(train_df)\n",
    "test_df = load_data(\"data/test.csv\")\n",
    "test_df = engineer_features(test_df)"
   ]
  },
  {
   "cell_type": "code",
   "execution_count": 55,
   "id": "d137d0ee",
   "metadata": {},
   "outputs": [],
   "source": [
    "pd.set_option(\"display.max_columns\", None)\n",
    "pd.set_option(\"display.max_rows\", None)\n",
    "pd.set_option(\"display.width\", None)"
   ]
  },
  {
   "cell_type": "code",
   "execution_count": 56,
   "id": "dede13ae",
   "metadata": {},
   "outputs": [
    {
     "name": "stdout",
     "output_type": "stream",
     "text": [
      "(1460, 84)\n",
      "(1459, 83)\n"
     ]
    }
   ],
   "source": [
    "print(train_df.shape)\n",
    "print(test_df.shape)\n",
    "# (1460, 81)"
   ]
  },
  {
   "cell_type": "code",
   "execution_count": 57,
   "id": "fe23bebf",
   "metadata": {},
   "outputs": [
    {
     "name": "stdout",
     "output_type": "stream",
     "text": [
      "<class 'pandas.core.frame.DataFrame'>\n",
      "RangeIndex: 1460 entries, 0 to 1459\n",
      "Data columns (total 84 columns):\n",
      " #   Column                Non-Null Count  Dtype   \n",
      "---  ------                --------------  -----   \n",
      " 0   Id                    1460 non-null   int32   \n",
      " 1   MSSubClass            1460 non-null   category\n",
      " 2   MSZoning              1460 non-null   category\n",
      " 3   LotFrontage           1201 non-null   float32 \n",
      " 4   LotArea               1460 non-null   int32   \n",
      " 5   Street                1460 non-null   category\n",
      " 6   Alley                 1460 non-null   category\n",
      " 7   LotShape              1460 non-null   category\n",
      " 8   LandContour           1460 non-null   category\n",
      " 9   Utilities             1460 non-null   category\n",
      " 10  LotConfig             1460 non-null   category\n",
      " 11  LandSlope             1460 non-null   category\n",
      " 12  Neighborhood          1460 non-null   category\n",
      " 13  Condition1            1460 non-null   category\n",
      " 14  Condition2            1460 non-null   category\n",
      " 15  BldgType              1460 non-null   category\n",
      " 16  HouseStyle            1460 non-null   category\n",
      " 17  OverallQual           1460 non-null   category\n",
      " 18  OverallCond           1460 non-null   category\n",
      " 19  YearBuilt             1460 non-null   int32   \n",
      " 20  YearRemodAdd          1460 non-null   int32   \n",
      " 21  RoofStyle             1460 non-null   category\n",
      " 22  RoofMatl              1460 non-null   category\n",
      " 23  Exterior1st           1460 non-null   category\n",
      " 24  Exterior2nd           1460 non-null   category\n",
      " 25  MasVnrType            1460 non-null   category\n",
      " 26  MasVnrArea            1460 non-null   float32 \n",
      " 27  ExterQual             1460 non-null   category\n",
      " 28  ExterCond             1460 non-null   category\n",
      " 29  Foundation            1460 non-null   category\n",
      " 30  BsmtQual              1460 non-null   category\n",
      " 31  BsmtCond              1460 non-null   category\n",
      " 32  BsmtExposure          1460 non-null   category\n",
      " 33  BsmtFinType1          1460 non-null   category\n",
      " 34  BsmtFinSF1            1460 non-null   int32   \n",
      " 35  BsmtFinType2          1460 non-null   category\n",
      " 36  BsmtFinSF2            1460 non-null   int32   \n",
      " 37  BsmtUnfSF             1460 non-null   int32   \n",
      " 38  TotalBsmtSF           1460 non-null   int32   \n",
      " 39  Heating               1460 non-null   category\n",
      " 40  HeatingQC             1460 non-null   category\n",
      " 41  CentralAir            1460 non-null   category\n",
      " 42  Electrical            1459 non-null   category\n",
      " 43  1stFlrSF              1460 non-null   int32   \n",
      " 44  2ndFlrSF              1460 non-null   int32   \n",
      " 45  LowQualFinSF          1460 non-null   int32   \n",
      " 46  GrLivArea             1460 non-null   int32   \n",
      " 47  BsmtFullBath          1460 non-null   int32   \n",
      " 48  BsmtHalfBath          1460 non-null   int32   \n",
      " 49  FullBath              1460 non-null   int32   \n",
      " 50  HalfBath              1460 non-null   int32   \n",
      " 51  BedroomAbvGr          1460 non-null   int32   \n",
      " 52  KitchenAbvGr          1460 non-null   int32   \n",
      " 53  KitchenQual           1460 non-null   category\n",
      " 54  TotRmsAbvGrd          1460 non-null   int32   \n",
      " 55  Functional            1460 non-null   category\n",
      " 56  Fireplaces            1460 non-null   int32   \n",
      " 57  FireplaceQu           1460 non-null   category\n",
      " 58  GarageType            1460 non-null   category\n",
      " 59  GarageYrBlt           1460 non-null   int32   \n",
      " 60  GarageFinish          1460 non-null   category\n",
      " 61  GarageCars            1460 non-null   int32   \n",
      " 62  GarageArea            1460 non-null   int32   \n",
      " 63  GarageQual            1460 non-null   category\n",
      " 64  GarageCond            1460 non-null   category\n",
      " 65  PavedDrive            1460 non-null   category\n",
      " 66  WoodDeckSF            1460 non-null   int32   \n",
      " 67  OpenPorchSF           1460 non-null   int32   \n",
      " 68  EnclosedPorch         1460 non-null   int32   \n",
      " 69  3SsnPorch             1460 non-null   int32   \n",
      " 70  ScreenPorch           1460 non-null   int32   \n",
      " 71  PoolArea              1460 non-null   int32   \n",
      " 72  PoolQC                1460 non-null   category\n",
      " 73  Fence                 1460 non-null   category\n",
      " 74  MiscFeature           1460 non-null   category\n",
      " 75  MiscVal               1460 non-null   int32   \n",
      " 76  MoSold                1460 non-null   int32   \n",
      " 77  YrSold                1460 non-null   int32   \n",
      " 78  SaleType              1460 non-null   category\n",
      " 79  SaleCondition         1460 non-null   category\n",
      " 80  SalePrice             1460 non-null   int32   \n",
      " 81  lot_frontage_missing  1460 non-null   bool    \n",
      " 82  has_garage            1460 non-null   int32   \n",
      " 83  has_basement          1460 non-null   int32   \n",
      "dtypes: bool(1), category(46), float32(2), int32(35)\n",
      "memory usage: 290.7 KB\n",
      "None\n"
     ]
    }
   ],
   "source": [
    "print(train_df.info())"
   ]
  },
  {
   "cell_type": "code",
   "execution_count": 58,
   "id": "abd2a6b4",
   "metadata": {},
   "outputs": [],
   "source": [
    "pd.set_option(\"display.max_columns\", None)\n",
    "pd.set_option(\"display.max_rows\", None)\n",
    "pd.set_option(\"display.width\", None)"
   ]
  },
  {
   "cell_type": "code",
   "execution_count": 59,
   "id": "6185e9e3",
   "metadata": {},
   "outputs": [
    {
     "name": "stdout",
     "output_type": "stream",
     "text": [
      "train df NA counts\n",
      "LotFrontage    259\n",
      "Electrical       1\n",
      "dtype: int64\n"
     ]
    }
   ],
   "source": [
    "na_info = train_df.isna().sum()[train_df.isna().sum() > 0]\n",
    "print(\"train df NA counts\")\n",
    "print(na_info)"
   ]
  },
  {
   "cell_type": "code",
   "execution_count": 60,
   "id": "f546889f",
   "metadata": {},
   "outputs": [
    {
     "name": "stdout",
     "output_type": "stream",
     "text": [
      "test df NA counts\n",
      "MSZoning         4\n",
      "LotFrontage    227\n",
      "Utilities        2\n",
      "Exterior1st      1\n",
      "Exterior2nd      1\n",
      "KitchenQual      1\n",
      "Functional       2\n",
      "SaleType         1\n",
      "dtype: int64\n"
     ]
    }
   ],
   "source": [
    "na_info = test_df.isna().sum()[test_df.isna().sum() > 0]\n",
    "print(\"test df NA counts\")\n",
    "print(na_info)"
   ]
  },
  {
   "cell_type": "code",
   "execution_count": 61,
   "id": "c71c24f4",
   "metadata": {},
   "outputs": [],
   "source": [
    "# Checking data consistency after initial cleaning\n",
    "train_df_check = check_data_consistency(train_df)\n",
    "test_df_check = check_data_consistency(test_df)"
   ]
  },
  {
   "cell_type": "code",
   "execution_count": 62,
   "id": "2f056e39-9765-40f6-97a3-e22b8e4171bb",
   "metadata": {},
   "outputs": [],
   "source": [
    "# I've decided to change MasVnrType for houses with to small MasVnrArea (< 10 sf) to None\n",
    "# and impute MasVnrType with BrkFace for None MasVnrType houses with normal MasVnrArea\n",
    "train_df = clean_data(train_df)\n",
    "test_df = clean_data(test_df)\n",
    "train_df_check = check_data_consistency(train_df)\n",
    "test_df_check = check_data_consistency(test_df)"
   ]
  },
  {
   "cell_type": "code",
   "execution_count": 63,
   "id": "c1ea1732-b109-4c2e-b205-a75bb27c5cb5",
   "metadata": {},
   "outputs": [
    {
     "name": "stdout",
     "output_type": "stream",
     "text": [
      "0\n",
      "0\n"
     ]
    }
   ],
   "source": [
    "print(sum(~train_df_check[\"garage_type_consistent\"]))\n",
    "print(sum(~test_df_check[\"garage_type_consistent\"]))"
   ]
  },
  {
   "cell_type": "code",
   "execution_count": 64,
   "id": "51b9ad29-edca-4c27-9215-7f3c34176f73",
   "metadata": {},
   "outputs": [
    {
     "name": "stdout",
     "output_type": "stream",
     "text": [
      "0\n",
      "0\n"
     ]
    }
   ],
   "source": [
    "print(sum(~train_df_check[\"garage_features_consistent\"]))\n",
    "print(sum(~test_df_check[\"garage_features_consistent\"]))"
   ]
  },
  {
   "cell_type": "code",
   "execution_count": 65,
   "id": "a075a3d3-c230-4877-9afd-cfde2e120371",
   "metadata": {},
   "outputs": [
    {
     "name": "stdout",
     "output_type": "stream",
     "text": [
      "55\n",
      "51\n"
     ]
    }
   ],
   "source": [
    "print(sum(~train_df_check[\"garage_area_reasonable\"]))\n",
    "print(sum(~test_df_check[\"garage_area_reasonable\"]))\n",
    "# That's fine"
   ]
  },
  {
   "cell_type": "code",
   "execution_count": 66,
   "id": "d535d792-7c9d-4a60-9618-db455264d8b0",
   "metadata": {},
   "outputs": [
    {
     "name": "stdout",
     "output_type": "stream",
     "text": [
      "0\n",
      "0\n"
     ]
    }
   ],
   "source": [
    "print(sum(~train_df_check[\"basement_features_consistent\"]))\n",
    "print(sum(~test_df_check[\"basement_features_consistent\"]))"
   ]
  },
  {
   "cell_type": "code",
   "execution_count": 67,
   "id": "971b9dfe-6430-4a13-8c96-fc69f6831e85",
   "metadata": {},
   "outputs": [
    {
     "name": "stdout",
     "output_type": "stream",
     "text": [
      "0\n",
      "0\n"
     ]
    }
   ],
   "source": [
    "print(sum(~train_df_check[\"has_consistent_second_finished_area\"]))\n",
    "print(sum(~test_df_check[\"has_consistent_second_finished_area\"]))"
   ]
  },
  {
   "cell_type": "code",
   "execution_count": 68,
   "id": "d391a8b5-2c21-4654-ae98-ce229164fc53",
   "metadata": {},
   "outputs": [
    {
     "name": "stdout",
     "output_type": "stream",
     "text": [
      "0\n",
      "0\n"
     ]
    }
   ],
   "source": [
    "print(sum(~train_df_check[\"basement_areas_match\"]))\n",
    "print(sum(~test_df_check[\"basement_areas_match\"]))"
   ]
  },
  {
   "cell_type": "code",
   "execution_count": 69,
   "id": "4c39594a-cc2b-4c4e-a76f-553bfe44dd6a",
   "metadata": {},
   "outputs": [
    {
     "name": "stdout",
     "output_type": "stream",
     "text": [
      "0\n",
      "0\n"
     ]
    }
   ],
   "source": [
    "print(sum(~train_df_check[\"mas_vnr_consistent\"]))\n",
    "print(sum(~test_df_check[\"mas_vnr_consistent\"]))"
   ]
  },
  {
   "cell_type": "code",
   "execution_count": 70,
   "id": "cf64111e-a724-46cf-a55f-20b0525e5470",
   "metadata": {},
   "outputs": [
    {
     "name": "stdout",
     "output_type": "stream",
     "text": [
      "train df NA counts\n",
      "Series([], dtype: int64)\n"
     ]
    }
   ],
   "source": [
    "na_info = train_df.isna().sum()[train_df.isna().sum() > 0]\n",
    "print(\"train df NA counts\")\n",
    "print(na_info)"
   ]
  },
  {
   "cell_type": "code",
   "execution_count": 71,
   "id": "5d34d6f3-34c3-49d3-89ca-956776f3f9e1",
   "metadata": {
    "lines_to_next_cell": 2
   },
   "outputs": [
    {
     "name": "stdout",
     "output_type": "stream",
     "text": [
      "test df NA counts\n",
      "Series([], dtype: int64)\n"
     ]
    }
   ],
   "source": [
    "na_info = test_df.isna().sum()[test_df.isna().sum() > 0]\n",
    "print(\"test df NA counts\")\n",
    "print(na_info)"
   ]
  },
  {
   "cell_type": "code",
   "execution_count": 72,
   "id": "6441fd6d-f493-4969-968d-524d75ab60d8",
   "metadata": {},
   "outputs": [
    {
     "data": {
      "text/plain": [
       "(1459, 90)"
      ]
     },
     "execution_count": 72,
     "metadata": {},
     "output_type": "execute_result"
    }
   ],
   "source": [
    "test_df.shape"
   ]
  },
  {
   "cell_type": "code",
   "execution_count": 73,
   "id": "f311fb63-e0c1-44e1-b121-1b508e8d5aee",
   "metadata": {},
   "outputs": [],
   "source": [
    "numeric_df = train_df \\\n",
    "    .select_dtypes(\n",
    "        include=[\"int32\", \"float32\"]\n",
    "    ) \\\n",
    "    .drop([\"has_garage\", \"has_basement\", \"SalePrice\", \"Id\"], axis=1)"
   ]
  },
  {
   "cell_type": "code",
   "execution_count": 74,
   "id": "a22534cc-ba03-4532-bf45-05b624fbb806",
   "metadata": {},
   "outputs": [
    {
     "name": "stdout",
     "output_type": "stream",
     "text": [
      "<class 'pandas.core.frame.DataFrame'>\n",
      "RangeIndex: 1460 entries, 0 to 1459\n",
      "Data columns (total 33 columns):\n",
      " #   Column         Non-Null Count  Dtype  \n",
      "---  ------         --------------  -----  \n",
      " 0   LotFrontage    1460 non-null   float32\n",
      " 1   LotArea        1460 non-null   int32  \n",
      " 2   YearBuilt      1460 non-null   int32  \n",
      " 3   YearRemodAdd   1460 non-null   int32  \n",
      " 4   MasVnrArea     1460 non-null   float32\n",
      " 5   BsmtFinSF1     1460 non-null   int32  \n",
      " 6   BsmtFinSF2     1460 non-null   int32  \n",
      " 7   BsmtUnfSF      1460 non-null   int32  \n",
      " 8   TotalBsmtSF    1460 non-null   int32  \n",
      " 9   1stFlrSF       1460 non-null   int32  \n",
      " 10  2ndFlrSF       1460 non-null   int32  \n",
      " 11  LowQualFinSF   1460 non-null   int32  \n",
      " 12  GrLivArea      1460 non-null   int32  \n",
      " 13  BsmtFullBath   1460 non-null   int32  \n",
      " 14  BsmtHalfBath   1460 non-null   int32  \n",
      " 15  FullBath       1460 non-null   int32  \n",
      " 16  HalfBath       1460 non-null   int32  \n",
      " 17  BedroomAbvGr   1460 non-null   int32  \n",
      " 18  KitchenAbvGr   1460 non-null   int32  \n",
      " 19  TotRmsAbvGrd   1460 non-null   int32  \n",
      " 20  Fireplaces     1460 non-null   int32  \n",
      " 21  GarageYrBlt    1460 non-null   int32  \n",
      " 22  GarageCars     1460 non-null   int32  \n",
      " 23  GarageArea     1460 non-null   int32  \n",
      " 24  WoodDeckSF     1460 non-null   int32  \n",
      " 25  OpenPorchSF    1460 non-null   int32  \n",
      " 26  EnclosedPorch  1460 non-null   int32  \n",
      " 27  3SsnPorch      1460 non-null   int32  \n",
      " 28  ScreenPorch    1460 non-null   int32  \n",
      " 29  PoolArea       1460 non-null   int32  \n",
      " 30  MiscVal        1460 non-null   int32  \n",
      " 31  MoSold         1460 non-null   int32  \n",
      " 32  YrSold         1460 non-null   int32  \n",
      "dtypes: float32(2), int32(31)\n",
      "memory usage: 188.3 KB\n"
     ]
    }
   ],
   "source": [
    "numeric_df.info()"
   ]
  },
  {
   "cell_type": "code",
   "execution_count": 75,
   "id": "9ba0826f-f7d9-4b2b-bf28-f93f9016c64d",
   "metadata": {},
   "outputs": [
    {
     "data": {
      "text/plain": [
       "GrLivArea        0.708624\n",
       "GarageCars       0.640409\n",
       "GarageArea       0.623431\n",
       "TotalBsmtSF      0.613581\n",
       "1stFlrSF         0.605852\n",
       "FullBath         0.560664\n",
       "TotRmsAbvGrd     0.533723\n",
       "YearBuilt        0.522897\n",
       "GarageYrBlt      0.508043\n",
       "YearRemodAdd     0.507101\n",
       "MasVnrArea       0.472615\n",
       "Fireplaces       0.466929\n",
       "BsmtFinSF1       0.386420\n",
       "LotFrontage      0.340564\n",
       "WoodDeckSF       0.324413\n",
       "2ndFlrSF         0.319334\n",
       "OpenPorchSF      0.315856\n",
       "HalfBath         0.284108\n",
       "LotArea          0.263843\n",
       "BsmtFullBath     0.227122\n",
       "BsmtUnfSF        0.214479\n",
       "BedroomAbvGr     0.168213\n",
       "ScreenPorch      0.111447\n",
       "PoolArea         0.092404\n",
       "MoSold           0.046432\n",
       "3SsnPorch        0.044584\n",
       "BsmtFinSF2      -0.011378\n",
       "BsmtHalfBath    -0.016844\n",
       "MiscVal         -0.021190\n",
       "LowQualFinSF    -0.025606\n",
       "YrSold          -0.028923\n",
       "EnclosedPorch   -0.128578\n",
       "KitchenAbvGr    -0.135907\n",
       "dtype: float64"
      ]
     },
     "execution_count": 75,
     "metadata": {},
     "output_type": "execute_result"
    }
   ],
   "source": [
    "numeric_df.corrwith(train_df[\"SalePrice\"]).sort_values(ascending=False)"
   ]
  },
  {
   "cell_type": "code",
   "execution_count": 76,
   "id": "14814742-6d6f-4c28-b373-18148c7082c8",
   "metadata": {},
   "outputs": [],
   "source": [
    "kw_stats = []\n",
    "kw_p_values = []\n",
    "cat_vars = train_df.select_dtypes(include=[\"category\"]).columns\n",
    "\n",
    "for var in cat_vars:\n",
    "    # Group SalePrice values by category\n",
    "    groups = [group for name, group in train_df.groupby(var, observed=True)['SalePrice']]\n",
    "    \n",
    "    # Perform Kruskal-Wallis H-test\n",
    "    stat, p = stats.kruskal(*groups)\n",
    "    \n",
    "    # Calculate epsilon-squared\n",
    "    n = train_df.shape[0]\n",
    "    epsilon_sqrd = stat / (n - 1)\n",
    "    \n",
    "    kw_stats.append(epsilon_sqrd)\n",
    "    kw_p_values.append(p)\n",
    "\n",
    "kw_results = pd.DataFrame({\n",
    "    'epsilon_sqrd': kw_stats,\n",
    "    'p': kw_p_values\n",
    "}, index=cat_vars)\n",
    "\n",
    "# Sort by effect size\n",
    "kw_results = kw_results.sort_values('epsilon_sqrd', ascending=False)"
   ]
  },
  {
   "cell_type": "code",
   "execution_count": 77,
   "id": "1774ad76-8792-4579-b61b-11e61abdc387",
   "metadata": {},
   "outputs": [
    {
     "data": {
      "text/html": [
       "<div>\n",
       "<style scoped>\n",
       "    .dataframe tbody tr th:only-of-type {\n",
       "        vertical-align: middle;\n",
       "    }\n",
       "\n",
       "    .dataframe tbody tr th {\n",
       "        vertical-align: top;\n",
       "    }\n",
       "\n",
       "    .dataframe thead th {\n",
       "        text-align: right;\n",
       "    }\n",
       "</style>\n",
       "<table border=\"1\" class=\"dataframe\">\n",
       "  <thead>\n",
       "    <tr style=\"text-align: right;\">\n",
       "      <th></th>\n",
       "      <th>epsilon_sqrd</th>\n",
       "      <th>p</th>\n",
       "    </tr>\n",
       "  </thead>\n",
       "  <tbody>\n",
       "    <tr>\n",
       "      <th>OverallQual</th>\n",
       "      <td>0.662168</td>\n",
       "      <td>3.506973e-202</td>\n",
       "    </tr>\n",
       "    <tr>\n",
       "      <th>Neighborhood</th>\n",
       "      <td>0.595293</td>\n",
       "      <td>6.696799e-168</td>\n",
       "    </tr>\n",
       "    <tr>\n",
       "      <th>ExterQual</th>\n",
       "      <td>0.468430</td>\n",
       "      <td>8.180798e-148</td>\n",
       "    </tr>\n",
       "    <tr>\n",
       "      <th>BsmtQual</th>\n",
       "      <td>0.462242</td>\n",
       "      <td>1.209826e-144</td>\n",
       "    </tr>\n",
       "    <tr>\n",
       "      <th>KitchenQual</th>\n",
       "      <td>0.453380</td>\n",
       "      <td>4.720113e-143</td>\n",
       "    </tr>\n",
       "    <tr>\n",
       "      <th>GarageFinish</th>\n",
       "      <td>0.417963</td>\n",
       "      <td>7.534250e-132</td>\n",
       "    </tr>\n",
       "    <tr>\n",
       "      <th>GarageType</th>\n",
       "      <td>0.365110</td>\n",
       "      <td>7.581344e-112</td>\n",
       "    </tr>\n",
       "    <tr>\n",
       "      <th>MSSubClass</th>\n",
       "      <td>0.364315</td>\n",
       "      <td>1.896860e-104</td>\n",
       "    </tr>\n",
       "    <tr>\n",
       "      <th>Foundation</th>\n",
       "      <td>0.334971</td>\n",
       "      <td>2.169096e-103</td>\n",
       "    </tr>\n",
       "    <tr>\n",
       "      <th>FireplaceQu</th>\n",
       "      <td>0.316586</td>\n",
       "      <td>1.331155e-97</td>\n",
       "    </tr>\n",
       "    <tr>\n",
       "      <th>HeatingQC</th>\n",
       "      <td>0.244535</td>\n",
       "      <td>6.036449e-76</td>\n",
       "    </tr>\n",
       "    <tr>\n",
       "      <th>BsmtFinType1</th>\n",
       "      <td>0.239122</td>\n",
       "      <td>2.686870e-72</td>\n",
       "    </tr>\n",
       "    <tr>\n",
       "      <th>Exterior1st</th>\n",
       "      <td>0.208392</td>\n",
       "      <td>1.694486e-56</td>\n",
       "    </tr>\n",
       "    <tr>\n",
       "      <th>Exterior2nd</th>\n",
       "      <td>0.194812</td>\n",
       "      <td>1.047636e-51</td>\n",
       "    </tr>\n",
       "    <tr>\n",
       "      <th>MSZoning</th>\n",
       "      <td>0.185106</td>\n",
       "      <td>3.080724e-57</td>\n",
       "    </tr>\n",
       "    <tr>\n",
       "      <th>MasVnrType</th>\n",
       "      <td>0.182523</td>\n",
       "      <td>1.948158e-57</td>\n",
       "    </tr>\n",
       "    <tr>\n",
       "      <th>OverallCond</th>\n",
       "      <td>0.163650</td>\n",
       "      <td>4.133950e-47</td>\n",
       "    </tr>\n",
       "    <tr>\n",
       "      <th>BsmtExposure</th>\n",
       "      <td>0.132825</td>\n",
       "      <td>8.120227e-41</td>\n",
       "    </tr>\n",
       "    <tr>\n",
       "      <th>GarageQual</th>\n",
       "      <td>0.131598</td>\n",
       "      <td>1.458782e-39</td>\n",
       "    </tr>\n",
       "    <tr>\n",
       "      <th>GarageCond</th>\n",
       "      <td>0.130887</td>\n",
       "      <td>2.431209e-39</td>\n",
       "    </tr>\n",
       "    <tr>\n",
       "      <th>HouseStyle</th>\n",
       "      <td>0.127094</td>\n",
       "      <td>1.388507e-36</td>\n",
       "    </tr>\n",
       "    <tr>\n",
       "      <th>SaleCondition</th>\n",
       "      <td>0.115368</td>\n",
       "      <td>1.663313e-34</td>\n",
       "    </tr>\n",
       "    <tr>\n",
       "      <th>SaleType</th>\n",
       "      <td>0.107185</td>\n",
       "      <td>9.119744e-30</td>\n",
       "    </tr>\n",
       "    <tr>\n",
       "      <th>LotShape</th>\n",
       "      <td>0.103464</td>\n",
       "      <td>1.640323e-32</td>\n",
       "    </tr>\n",
       "    <tr>\n",
       "      <th>CentralAir</th>\n",
       "      <td>0.098148</td>\n",
       "      <td>5.319642e-33</td>\n",
       "    </tr>\n",
       "    <tr>\n",
       "      <th>Electrical</th>\n",
       "      <td>0.090138</td>\n",
       "      <td>1.850352e-27</td>\n",
       "    </tr>\n",
       "    <tr>\n",
       "      <th>BsmtCond</th>\n",
       "      <td>0.082851</td>\n",
       "      <td>3.465401e-25</td>\n",
       "    </tr>\n",
       "    <tr>\n",
       "      <th>PavedDrive</th>\n",
       "      <td>0.079396</td>\n",
       "      <td>7.012268e-26</td>\n",
       "    </tr>\n",
       "    <tr>\n",
       "      <th>Fence</th>\n",
       "      <td>0.053477</td>\n",
       "      <td>4.567247e-16</td>\n",
       "    </tr>\n",
       "    <tr>\n",
       "      <th>Condition1</th>\n",
       "      <td>0.050996</td>\n",
       "      <td>6.492600e-13</td>\n",
       "    </tr>\n",
       "    <tr>\n",
       "      <th>BldgType</th>\n",
       "      <td>0.047841</td>\n",
       "      <td>2.500858e-14</td>\n",
       "    </tr>\n",
       "    <tr>\n",
       "      <th>BsmtFinType2</th>\n",
       "      <td>0.047720</td>\n",
       "      <td>4.884787e-13</td>\n",
       "    </tr>\n",
       "    <tr>\n",
       "      <th>ExterCond</th>\n",
       "      <td>0.031951</td>\n",
       "      <td>1.832365e-09</td>\n",
       "    </tr>\n",
       "    <tr>\n",
       "      <th>Alley</th>\n",
       "      <td>0.031332</td>\n",
       "      <td>1.184056e-10</td>\n",
       "    </tr>\n",
       "    <tr>\n",
       "      <th>RoofStyle</th>\n",
       "      <td>0.027332</td>\n",
       "      <td>1.580733e-07</td>\n",
       "    </tr>\n",
       "    <tr>\n",
       "      <th>LotConfig</th>\n",
       "      <td>0.024485</td>\n",
       "      <td>3.297912e-07</td>\n",
       "    </tr>\n",
       "    <tr>\n",
       "      <th>LandContour</th>\n",
       "      <td>0.024201</td>\n",
       "      <td>1.047923e-07</td>\n",
       "    </tr>\n",
       "    <tr>\n",
       "      <th>Heating</th>\n",
       "      <td>0.022801</td>\n",
       "      <td>3.331280e-06</td>\n",
       "    </tr>\n",
       "    <tr>\n",
       "      <th>Functional</th>\n",
       "      <td>0.022317</td>\n",
       "      <td>1.274180e-05</td>\n",
       "    </tr>\n",
       "    <tr>\n",
       "      <th>RoofMatl</th>\n",
       "      <td>0.012935</td>\n",
       "      <td>8.597464e-03</td>\n",
       "    </tr>\n",
       "    <tr>\n",
       "      <th>Condition2</th>\n",
       "      <td>0.012182</td>\n",
       "      <td>1.303159e-02</td>\n",
       "    </tr>\n",
       "    <tr>\n",
       "      <th>MiscFeature</th>\n",
       "      <td>0.007953</td>\n",
       "      <td>2.056095e-02</td>\n",
       "    </tr>\n",
       "    <tr>\n",
       "      <th>PoolQC</th>\n",
       "      <td>0.004109</td>\n",
       "      <td>1.118199e-01</td>\n",
       "    </tr>\n",
       "    <tr>\n",
       "      <th>LandSlope</th>\n",
       "      <td>0.002700</td>\n",
       "      <td>1.395380e-01</td>\n",
       "    </tr>\n",
       "    <tr>\n",
       "      <th>Street</th>\n",
       "      <td>0.002099</td>\n",
       "      <td>8.012556e-02</td>\n",
       "    </tr>\n",
       "    <tr>\n",
       "      <th>Utilities</th>\n",
       "      <td>0.000279</td>\n",
       "      <td>5.233080e-01</td>\n",
       "    </tr>\n",
       "  </tbody>\n",
       "</table>\n",
       "</div>"
      ],
      "text/plain": [
       "               epsilon_sqrd              p\n",
       "OverallQual        0.662168  3.506973e-202\n",
       "Neighborhood       0.595293  6.696799e-168\n",
       "ExterQual          0.468430  8.180798e-148\n",
       "BsmtQual           0.462242  1.209826e-144\n",
       "KitchenQual        0.453380  4.720113e-143\n",
       "GarageFinish       0.417963  7.534250e-132\n",
       "GarageType         0.365110  7.581344e-112\n",
       "MSSubClass         0.364315  1.896860e-104\n",
       "Foundation         0.334971  2.169096e-103\n",
       "FireplaceQu        0.316586   1.331155e-97\n",
       "HeatingQC          0.244535   6.036449e-76\n",
       "BsmtFinType1       0.239122   2.686870e-72\n",
       "Exterior1st        0.208392   1.694486e-56\n",
       "Exterior2nd        0.194812   1.047636e-51\n",
       "MSZoning           0.185106   3.080724e-57\n",
       "MasVnrType         0.182523   1.948158e-57\n",
       "OverallCond        0.163650   4.133950e-47\n",
       "BsmtExposure       0.132825   8.120227e-41\n",
       "GarageQual         0.131598   1.458782e-39\n",
       "GarageCond         0.130887   2.431209e-39\n",
       "HouseStyle         0.127094   1.388507e-36\n",
       "SaleCondition      0.115368   1.663313e-34\n",
       "SaleType           0.107185   9.119744e-30\n",
       "LotShape           0.103464   1.640323e-32\n",
       "CentralAir         0.098148   5.319642e-33\n",
       "Electrical         0.090138   1.850352e-27\n",
       "BsmtCond           0.082851   3.465401e-25\n",
       "PavedDrive         0.079396   7.012268e-26\n",
       "Fence              0.053477   4.567247e-16\n",
       "Condition1         0.050996   6.492600e-13\n",
       "BldgType           0.047841   2.500858e-14\n",
       "BsmtFinType2       0.047720   4.884787e-13\n",
       "ExterCond          0.031951   1.832365e-09\n",
       "Alley              0.031332   1.184056e-10\n",
       "RoofStyle          0.027332   1.580733e-07\n",
       "LotConfig          0.024485   3.297912e-07\n",
       "LandContour        0.024201   1.047923e-07\n",
       "Heating            0.022801   3.331280e-06\n",
       "Functional         0.022317   1.274180e-05\n",
       "RoofMatl           0.012935   8.597464e-03\n",
       "Condition2         0.012182   1.303159e-02\n",
       "MiscFeature        0.007953   2.056095e-02\n",
       "PoolQC             0.004109   1.118199e-01\n",
       "LandSlope          0.002700   1.395380e-01\n",
       "Street             0.002099   8.012556e-02\n",
       "Utilities          0.000279   5.233080e-01"
      ]
     },
     "execution_count": 77,
     "metadata": {},
     "output_type": "execute_result"
    }
   ],
   "source": [
    "kw_results"
   ]
  },
  {
   "cell_type": "code",
   "execution_count": null,
   "id": "87381827-e5c9-4da1-8ea0-ce87b02fea07",
   "metadata": {},
   "outputs": [],
   "source": []
  }
 ],
 "metadata": {
  "jupytext": {
   "cell_metadata_filter": "-all",
   "main_language": "python",
   "notebook_metadata_filter": "-all"
  },
  "kernelspec": {
   "display_name": ".venv",
   "language": "python",
   "name": "python3"
  },
  "language_info": {
   "codemirror_mode": {
    "name": "ipython",
    "version": 3
   },
   "file_extension": ".py",
   "mimetype": "text/x-python",
   "name": "python",
   "nbconvert_exporter": "python",
   "pygments_lexer": "ipython3",
   "version": "3.12.7"
  }
 },
 "nbformat": 4,
 "nbformat_minor": 5
}
