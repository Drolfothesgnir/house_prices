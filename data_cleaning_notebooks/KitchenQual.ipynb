{
 "cells": [
  {
   "cell_type": "code",
   "execution_count": 11,
   "id": "1a13c222-2de3-4f48-b6aa-b224d7ab5b14",
   "metadata": {},
   "outputs": [],
   "source": [
    "import os\n",
    "import sys\n",
    "from pathlib import Path\n",
    "\n",
    "# Get the notebook's directory\n",
    "notebook_dir = os.getcwd()\n",
    "\n",
    "# Add the notebook directory and its parent to Python path\n",
    "sys.path.append(notebook_dir)\n",
    "sys.path.append(str(Path(notebook_dir).parent))\n",
    "\n",
    "# Function to add all subdirectories to Python path\n",
    "def add_subdirs_to_path():\n",
    "    for root, dirs, files in os.walk(notebook_dir):\n",
    "        for dir_name in dirs:\n",
    "            full_path = os.path.join(root, dir_name)\n",
    "            if full_path not in sys.path:\n",
    "                sys.path.append(full_path)\n",
    "\n",
    "# Add all subdirectories\n",
    "add_subdirs_to_path()"
   ]
  },
  {
   "cell_type": "code",
   "execution_count": 12,
   "id": "a74a4fc3-cf44-42e9-955e-a4797181ce01",
   "metadata": {},
   "outputs": [],
   "source": [
    "import pandas as pd\n",
    "\n",
    "from feature_engineering import engineer_features\n",
    "from utils.load_data import load_data"
   ]
  },
  {
   "cell_type": "code",
   "execution_count": 13,
   "id": "2c6cc495-a374-4047-a6ef-ebf99cbc05eb",
   "metadata": {},
   "outputs": [],
   "source": [
    "train_df_raw = pd.read_csv(\"../data/train.csv\")\n",
    "test_df_raw = pd.read_csv(\"../data/test.csv\")\n",
    "train_df = load_data(\"../data/train.csv\")\n",
    "train_df = engineer_features(train_df)\n",
    "test_df = load_data(\"../data/test.csv\")\n",
    "test_df = engineer_features(test_df)"
   ]
  },
  {
   "cell_type": "code",
   "execution_count": 14,
   "id": "e4638a8c-fb55-435d-a1e1-8282e9aafea8",
   "metadata": {},
   "outputs": [],
   "source": [
    "pd.set_option(\"display.max_columns\", None)\n",
    "pd.set_option(\"display.max_rows\", None)\n",
    "pd.set_option(\"display.width\", None)\n",
    "pd.set_option('display.max_colwidth', None)"
   ]
  },
  {
   "cell_type": "code",
   "execution_count": 15,
   "id": "a6090bd3-2e48-4577-9a29-29e31633e84b",
   "metadata": {},
   "outputs": [
    {
     "name": "stdout",
     "output_type": "stream",
     "text": [
      "train df NA counts\n",
      "LotFrontage    259\n",
      "Electrical       1\n",
      "dtype: int64\n"
     ]
    }
   ],
   "source": [
    "na_info = train_df.isna().sum()[train_df.isna().sum() > 0]\n",
    "print(\"train df NA counts\")\n",
    "print(na_info)"
   ]
  },
  {
   "cell_type": "code",
   "execution_count": 16,
   "id": "da8da5bb-1e92-4137-8708-a0f76b445017",
   "metadata": {},
   "outputs": [
    {
     "name": "stdout",
     "output_type": "stream",
     "text": [
      "test df NA counts\n",
      "MSZoning         4\n",
      "LotFrontage    227\n",
      "Utilities        2\n",
      "Exterior1st      1\n",
      "Exterior2nd      1\n",
      "KitchenQual      1\n",
      "Functional       2\n",
      "SaleType         1\n",
      "dtype: int64\n"
     ]
    }
   ],
   "source": [
    "na_info = test_df.isna().sum()[test_df.isna().sum() > 0]\n",
    "print(\"test df NA counts\")\n",
    "print(na_info)"
   ]
  },
  {
   "cell_type": "code",
   "execution_count": 17,
   "id": "1494ad96-8188-431a-a0c4-4e2dbda6f064",
   "metadata": {},
   "outputs": [
    {
     "name": "stdout",
     "output_type": "stream",
     "text": [
      "                           95\n",
      "Id                       1556\n",
      "MSSubClass                 50\n",
      "MSZoning                   RL\n",
      "LotFrontage              72.0\n",
      "LotArea                 10632\n",
      "Street                   Pave\n",
      "Alley                      NA\n",
      "LotShape                  IR1\n",
      "LandContour               Lvl\n",
      "Utilities              AllPub\n",
      "LotConfig              Inside\n",
      "LandSlope                 Gtl\n",
      "Neighborhood          ClearCr\n",
      "Condition1               Norm\n",
      "Condition2               Norm\n",
      "BldgType                 1Fam\n",
      "HouseStyle             1.5Fin\n",
      "OverallQual                 5\n",
      "OverallCond                 3\n",
      "YearBuilt                1917\n",
      "YearRemodAdd             1950\n",
      "RoofStyle               Gable\n",
      "RoofMatl              CompShg\n",
      "Exterior1st           Wd Sdng\n",
      "Exterior2nd           Wd Sdng\n",
      "MasVnrType               None\n",
      "MasVnrArea                0.0\n",
      "ExterQual                  TA\n",
      "ExterCond                  TA\n",
      "Foundation             BrkTil\n",
      "BsmtQual                   Gd\n",
      "BsmtCond                   Fa\n",
      "BsmtExposure               No\n",
      "BsmtFinType1              Unf\n",
      "BsmtFinSF1                0.0\n",
      "BsmtFinType2              Unf\n",
      "BsmtFinSF2                0.0\n",
      "BsmtUnfSF               689.0\n",
      "TotalBsmtSF             689.0\n",
      "Heating                  GasA\n",
      "HeatingQC                  Gd\n",
      "CentralAir                  N\n",
      "Electrical              SBrkr\n",
      "1stFlrSF                  725\n",
      "2ndFlrSF                  499\n",
      "LowQualFinSF                0\n",
      "GrLivArea                1224\n",
      "BsmtFullBath              0.0\n",
      "BsmtHalfBath              0.0\n",
      "FullBath                    1\n",
      "HalfBath                    1\n",
      "BedroomAbvGr                3\n",
      "KitchenAbvGr                1\n",
      "KitchenQual               NaN\n",
      "TotRmsAbvGrd                6\n",
      "Functional                Mod\n",
      "Fireplaces                  0\n",
      "FireplaceQu                NA\n",
      "GarageType             Detchd\n",
      "GarageYrBlt              1917\n",
      "GarageFinish              Unf\n",
      "GarageCars                1.0\n",
      "GarageArea              180.0\n",
      "GarageQual                 Fa\n",
      "GarageCond                 Fa\n",
      "PavedDrive                  N\n",
      "WoodDeckSF                  0\n",
      "OpenPorchSF                 0\n",
      "EnclosedPorch             248\n",
      "3SsnPorch                   0\n",
      "ScreenPorch                 0\n",
      "PoolArea                    0\n",
      "PoolQC                     NA\n",
      "Fence                      NA\n",
      "MiscFeature                NA\n",
      "MiscVal                     0\n",
      "MoSold                      1\n",
      "YrSold                   2010\n",
      "SaleType                  COD\n",
      "SaleCondition          Normal\n",
      "lot_frontage_missing    False\n",
      "has_garage                  1\n",
      "has_basement                1\n"
     ]
    }
   ],
   "source": [
    "print(test_df[test_df[\"KitchenQual\"].isna()].transpose())"
   ]
  },
  {
   "cell_type": "code",
   "execution_count": 18,
   "id": "bf621eba-a90d-46c3-a0b9-7e87b630b047",
   "metadata": {},
   "outputs": [
    {
     "name": "stdout",
     "output_type": "stream",
     "text": [
      "KitchenQual  Fa   TA   Gd  Ex\n",
      "OverallQual                  \n",
      "1             2    0    0   0\n",
      "2             2    1    0   0\n",
      "3             3   16    1   0\n",
      "4            12   94   10   0\n",
      "5             9  320   60   8\n",
      "6            10  235  127   2\n",
      "7             1   64  244  10\n",
      "8             0    5  133  30\n",
      "9             0    0    8  35\n",
      "10            0    0    3  15\n"
     ]
    }
   ],
   "source": [
    "print(pd.crosstab(train_df[\"OverallQual\"], train_df[\"KitchenQual\"]))"
   ]
  },
  {
   "cell_type": "code",
   "execution_count": 19,
   "id": "3b8dcfc8-b3c2-4cbd-bfa9-a4d8895d4fc7",
   "metadata": {},
   "outputs": [
    {
     "name": "stdout",
     "output_type": "stream",
     "text": [
      "KitchenQual  Fa   TA   Gd  Ex\n",
      "OverallCond                  \n",
      "1             1    0    0   0\n",
      "2             2    2    0   1\n",
      "3             3   21    1   0\n",
      "4             7   46    4   0\n",
      "5            10  316  415  80\n",
      "6             3  190   54   5\n",
      "7            11  119   67   8\n",
      "8             2   37   29   4\n",
      "9             0    4   16   2\n"
     ]
    }
   ],
   "source": [
    "print(pd.crosstab(train_df[\"OverallCond\"], train_df[\"KitchenQual\"]))"
   ]
  },
  {
   "cell_type": "code",
   "execution_count": 20,
   "id": "730d5140-0a9f-430c-871d-bc32d727bd9e",
   "metadata": {},
   "outputs": [
    {
     "name": "stdout",
     "output_type": "stream",
     "text": [
      "KitchenQual  Fa   TA   Gd  Ex\n",
      "Functional                   \n",
      "Typ          33  663  567  97\n",
      "Min1          2   24    5   0\n",
      "Min2          0   27    6   1\n",
      "Mod           2   10    2   1\n",
      "Maj1          2    5    6   1\n",
      "Maj2          0    5    0   0\n",
      "Sev           0    1    0   0\n"
     ]
    }
   ],
   "source": [
    "print(pd.crosstab(train_df[\"Functional\"], train_df[\"KitchenQual\"]))"
   ]
  }
 ],
 "metadata": {
  "kernelspec": {
   "display_name": ".venv",
   "language": "python",
   "name": "python3"
  },
  "language_info": {
   "codemirror_mode": {
    "name": "ipython",
    "version": 3
   },
   "file_extension": ".py",
   "mimetype": "text/x-python",
   "name": "python",
   "nbconvert_exporter": "python",
   "pygments_lexer": "ipython3",
   "version": "3.12.7"
  }
 },
 "nbformat": 4,
 "nbformat_minor": 5
}
