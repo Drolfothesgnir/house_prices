{
 "cells": [
  {
   "cell_type": "code",
   "execution_count": 1,
   "id": "8e993e88-a8fc-4cb9-bca9-35bd085b8c7c",
   "metadata": {},
   "outputs": [],
   "source": [
    "import os\n",
    "import sys\n",
    "from pathlib import Path\n",
    "\n",
    "# Get the notebook's directory\n",
    "notebook_dir = os.getcwd()\n",
    "\n",
    "# Add the notebook directory and its parent to Python path\n",
    "sys.path.append(notebook_dir)\n",
    "sys.path.append(str(Path(notebook_dir).parent))\n",
    "\n",
    "# Function to add all subdirectories to Python path\n",
    "def add_subdirs_to_path():\n",
    "    for root, dirs, files in os.walk(notebook_dir):\n",
    "        for dir_name in dirs:\n",
    "            full_path = os.path.join(root, dir_name)\n",
    "            if full_path not in sys.path:\n",
    "                sys.path.append(full_path)\n",
    "\n",
    "# Add all subdirectories\n",
    "add_subdirs_to_path()"
   ]
  },
  {
   "cell_type": "code",
   "execution_count": 2,
   "id": "72aa2930-69e0-480c-abfe-826482c66577",
   "metadata": {},
   "outputs": [],
   "source": [
    "import matplotlib.pyplot as plt\n",
    "import numpy as np\n",
    "import pandas as pd\n",
    "import seaborn as sns\n",
    "\n",
    "from data_cleaning import clean_data\n",
    "from data_consistency_check import check_data_consistency\n",
    "from feature_engineering import engineer_features\n",
    "from utils.load_data import load_data"
   ]
  },
  {
   "cell_type": "code",
   "execution_count": 3,
   "id": "6436fcb2-c0a7-4d63-981c-a1ed28ca65fd",
   "metadata": {},
   "outputs": [],
   "source": [
    "train_df_raw = pd.read_csv(\"../data/train.csv\")\n",
    "test_df_raw = pd.read_csv(\"../data/test.csv\")\n",
    "train_df = load_data(\"../data/train.csv\")\n",
    "train_df = engineer_features(train_df)\n",
    "test_df = load_data(\"../data/test.csv\")\n",
    "test_df = engineer_features(test_df)"
   ]
  },
  {
   "cell_type": "code",
   "execution_count": 4,
   "id": "42ab8439-768d-4eee-aeef-7c0f29520637",
   "metadata": {},
   "outputs": [],
   "source": [
    "pd.set_option(\"display.max_columns\", None)\n",
    "pd.set_option(\"display.max_rows\", None)\n",
    "pd.set_option(\"display.width\", None)"
   ]
  },
  {
   "cell_type": "code",
   "execution_count": 5,
   "id": "8f1626c8-59ef-49f3-9849-fdd450733dae",
   "metadata": {},
   "outputs": [
    {
     "name": "stdout",
     "output_type": "stream",
     "text": [
      "                          455      485\n",
      "Id                       1916     1946\n",
      "MSSubClass                 30       20\n",
      "MSZoning                  NaN       RL\n",
      "LotFrontage             109.0      NaN\n",
      "LotArea                 21780    31220\n",
      "Street                   Grvl     Pave\n",
      "Alley                      NA       NA\n",
      "LotShape                  Reg      IR1\n",
      "LandContour               Lvl      Bnk\n",
      "Utilities                 NaN      NaN\n",
      "LotConfig              Inside      FR2\n",
      "LandSlope                 Gtl      Gtl\n",
      "Neighborhood           IDOTRR  Gilbert\n",
      "Condition1               Norm    Feedr\n",
      "Condition2               Norm     Norm\n",
      "BldgType                 1Fam     1Fam\n",
      "HouseStyle             1Story   1Story\n",
      "OverallQual                 2        6\n",
      "OverallCond                 4        2\n",
      "YearBuilt                1910     1952\n",
      "YearRemodAdd             1950     1952\n",
      "RoofStyle               Gable      Hip\n",
      "RoofMatl              CompShg  CompShg\n",
      "Exterior1st           Wd Sdng  BrkFace\n",
      "Exterior2nd           Wd Sdng  BrkFace\n",
      "MasVnrType               None     None\n",
      "MasVnrArea                0.0      0.0\n",
      "ExterQual                  Fa       TA\n",
      "ExterCond                  Fa       TA\n",
      "Foundation             CBlock   CBlock\n",
      "BsmtQual                   NA       TA\n",
      "BsmtCond                   NA       TA\n",
      "BsmtExposure               NA       No\n",
      "BsmtFinType1               NA      Unf\n",
      "BsmtFinSF1                0.0      0.0\n",
      "BsmtFinType2               NA      Unf\n",
      "BsmtFinSF2                0.0      0.0\n",
      "BsmtUnfSF                 0.0   1632.0\n",
      "TotalBsmtSF               0.0   1632.0\n",
      "Heating                  GasA     GasA\n",
      "HeatingQC                  TA       TA\n",
      "CentralAir                  N        Y\n",
      "Electrical              FuseA    FuseA\n",
      "1stFlrSF                  810     1474\n",
      "2ndFlrSF                    0        0\n",
      "LowQualFinSF                0        0\n",
      "GrLivArea                 810     1474\n",
      "BsmtFullBath              0.0      0.0\n",
      "BsmtHalfBath              0.0      0.0\n",
      "FullBath                    1        1\n",
      "HalfBath                    0        0\n",
      "BedroomAbvGr                1        3\n",
      "KitchenAbvGr                1        1\n",
      "KitchenQual                TA       TA\n",
      "TotRmsAbvGrd                4        7\n",
      "Functional               Min1     Min2\n",
      "Fireplaces                  0        2\n",
      "FireplaceQu                NA       Gd\n",
      "GarageType             Detchd   Attchd\n",
      "GarageYrBlt              1975     1952\n",
      "GarageFinish              Unf      Unf\n",
      "GarageCars                1.0      2.0\n",
      "GarageArea              280.0    495.0\n",
      "GarageQual                 TA       TA\n",
      "GarageCond                 TA       TA\n",
      "PavedDrive                  N        Y\n",
      "WoodDeckSF                119        0\n",
      "OpenPorchSF                24        0\n",
      "EnclosedPorch               0      144\n",
      "3SsnPorch                   0        0\n",
      "ScreenPorch                 0        0\n",
      "PoolArea                    0        0\n",
      "PoolQC                     NA       NA\n",
      "Fence                      NA       NA\n",
      "MiscFeature                NA     Shed\n",
      "MiscVal                     0      750\n",
      "MoSold                      3        5\n",
      "YrSold                   2009     2008\n",
      "SaleType                ConLD       WD\n",
      "SaleCondition          Normal   Normal\n",
      "lot_frontage_missing    False     True\n",
      "has_garage                  1        1\n",
      "has_basement                0        1\n"
     ]
    }
   ],
   "source": [
    "print(test_df[test_df[\"Utilities\"].isna()].transpose())"
   ]
  },
  {
   "cell_type": "code",
   "execution_count": 6,
   "id": "14546359-5cf3-487e-95e6-f98c841fd61a",
   "metadata": {},
   "outputs": [],
   "source": [
    "# So these houses are very old and in poor condition. They have old but available electric circuits and gas heating.\n",
    "# Therefore I'll put NoSeWa into NA places"
   ]
  }
 ],
 "metadata": {
  "kernelspec": {
   "display_name": "Python 3 (ipykernel)",
   "language": "python",
   "name": "python3"
  },
  "language_info": {
   "codemirror_mode": {
    "name": "ipython",
    "version": 3
   },
   "file_extension": ".py",
   "mimetype": "text/x-python",
   "name": "python",
   "nbconvert_exporter": "python",
   "pygments_lexer": "ipython3",
   "version": "3.12.7"
  }
 },
 "nbformat": 4,
 "nbformat_minor": 5
}
