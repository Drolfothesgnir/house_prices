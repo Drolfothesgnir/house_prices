{
 "cells": [
  {
   "cell_type": "code",
   "execution_count": 5,
   "id": "47623537-5b5f-4522-be3c-84060565e444",
   "metadata": {},
   "outputs": [],
   "source": [
    "# Exploratory Data Analysis for Edwards neighborhood"
   ]
  },
  {
   "cell_type": "code",
   "execution_count": 6,
   "id": "dc0f3ef3-1f38-4960-9ef2-74fa416d1d92",
   "metadata": {},
   "outputs": [],
   "source": [
    "\n",
    "from feature_engineering import engineer_features\n",
    "from utils.load_data import load_data\n",
    "from data_cleaning.data_cleaning import clean_data"
   ]
  },
  {
   "cell_type": "code",
   "execution_count": 10,
   "id": "a54f2559-555e-4df6-8c41-2a91e4fc246b",
   "metadata": {},
   "outputs": [
    {
     "data": {
      "text/plain": [
       "(100, 91)"
      ]
     },
     "execution_count": 10,
     "metadata": {},
     "output_type": "execute_result"
    }
   ],
   "source": [
    "train_df = load_data(\"../data/train.csv\")\n",
    "train_df = engineer_features(train_df)\n",
    "train_df = clean_data(train_df)\n",
    "df = train_df.loc[train_df[\"Neighborhood\"] == \"Edwards\"]\n",
    "df.shape"
   ]
  },
  {
   "cell_type": "code",
   "execution_count": null,
   "id": "1325fb41",
   "metadata": {},
   "outputs": [],
   "source": []
  }
 ],
 "metadata": {
  "kernelspec": {
   "display_name": ".venv",
   "language": "python",
   "name": "python3"
  },
  "language_info": {
   "codemirror_mode": {
    "name": "ipython",
    "version": 3
   },
   "file_extension": ".py",
   "mimetype": "text/x-python",
   "name": "python",
   "nbconvert_exporter": "python",
   "pygments_lexer": "ipython3",
   "version": "3.12.7"
  }
 },
 "nbformat": 4,
 "nbformat_minor": 5
}
