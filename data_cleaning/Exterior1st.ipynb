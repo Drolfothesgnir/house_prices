{
 "cells": [
  {
   "cell_type": "code",
   "execution_count": 1,
   "id": "bea257cc-e324-4034-b47f-c3c62a29ee02",
   "metadata": {},
   "outputs": [],
   "source": [
    "import sys\n",
    "import os\n",
    "\n",
    "# Get the parent directory\n",
    "parent_dir = os.path.abspath(os.path.join(os.getcwd(), '..'))\n",
    "\n",
    "# Add it to sys.path\n",
    "sys.path.insert(0, parent_dir)\n"
   ]
  },
  {
   "cell_type": "code",
   "execution_count": 2,
   "id": "5a6558e3-523f-4874-b963-d7a3bc09d414",
   "metadata": {},
   "outputs": [],
   "source": [
    "import matplotlib.pyplot as plt\n",
    "import numpy as np\n",
    "import pandas as pd\n",
    "import seaborn as sns\n",
    "\n",
    "from data_consistency_check import check_data_consistency\n",
    "from feature_engineering import engineer_features\n",
    "from utils.load_data import load_data\n",
    "from data_cleaning import clean_data\n",
    "from utils.calculate_row_entropy import calculate_row_entropy"
   ]
  },
  {
   "cell_type": "code",
   "execution_count": 3,
   "id": "030472c2-b8ba-4737-ade5-52a2b0d5dc0b",
   "metadata": {},
   "outputs": [],
   "source": [
    "train_df = load_data(\"../data/train.csv\")\n",
    "train_df = engineer_features(train_df)\n",
    "test_df = load_data(\"../data/test.csv\")\n",
    "test_df = engineer_features(test_df)\n",
    "train_df_raw = pd.read_csv(\"../data/train.csv\")\n",
    "test_df_raw = pd.read_csv(\"../data/test.csv\")"
   ]
  },
  {
   "cell_type": "code",
   "execution_count": 4,
   "id": "17cc731b-a315-4273-a14f-edc45b12c2bf",
   "metadata": {},
   "outputs": [],
   "source": [
    "pd.set_option(\"display.max_columns\", None)\n",
    "pd.set_option(\"display.max_rows\", None)\n",
    "pd.set_option(\"display.width\", None)\n",
    "pd.set_option('display.max_colwidth', None)"
   ]
  },
  {
   "cell_type": "code",
   "execution_count": 5,
   "id": "05f2f7c9-b930-4822-a4ec-91f7e7c9e024",
   "metadata": {},
   "outputs": [
    {
     "name": "stdout",
     "output_type": "stream",
     "text": [
      "train df NA counts\n",
      "LotFrontage    259\n",
      "Electrical       1\n",
      "dtype: int64\n"
     ]
    }
   ],
   "source": [
    "na_info = train_df.isna().sum()[train_df.isna().sum() > 0]\n",
    "print(\"train df NA counts\")\n",
    "print(na_info)"
   ]
  },
  {
   "cell_type": "code",
   "execution_count": 6,
   "id": "1e4b95fc-77cc-4db5-a384-6e233b8ad93a",
   "metadata": {},
   "outputs": [
    {
     "name": "stdout",
     "output_type": "stream",
     "text": [
      "test df NA counts\n",
      "MSZoning         4\n",
      "LotFrontage    227\n",
      "Utilities        2\n",
      "Exterior1st      1\n",
      "Exterior2nd      1\n",
      "KitchenQual      1\n",
      "Functional       2\n",
      "SaleType         1\n",
      "dtype: int64\n"
     ]
    }
   ],
   "source": [
    "na_info = test_df.isna().sum()[test_df.isna().sum() > 0]\n",
    "print(\"test df NA counts\")\n",
    "print(na_info)"
   ]
  },
  {
   "cell_type": "code",
   "execution_count": 7,
   "id": "e8d857c0-77b0-4953-98a8-3a6f450d5d41",
   "metadata": {},
   "outputs": [
    {
     "name": "stdout",
     "output_type": "stream",
     "text": [
      "                          691\n",
      "Id                       2152\n",
      "MSSubClass                 30\n",
      "MSZoning                   RL\n",
      "LotFrontage              85.0\n",
      "LotArea                 19550\n",
      "Street                   Pave\n",
      "Alley                      NA\n",
      "LotShape                  Reg\n",
      "LandContour               Lvl\n",
      "Utilities              AllPub\n",
      "LotConfig              Inside\n",
      "LandSlope                 Gtl\n",
      "Neighborhood          Edwards\n",
      "Condition1               Norm\n",
      "Condition2               Norm\n",
      "BldgType                 1Fam\n",
      "HouseStyle             1Story\n",
      "OverallQual                 5\n",
      "OverallCond                 7\n",
      "YearBuilt                1940\n",
      "YearRemodAdd             2007\n",
      "RoofStyle                Flat\n",
      "RoofMatl              Tar&Grv\n",
      "Exterior1st               NaN\n",
      "Exterior2nd               NaN\n",
      "MasVnrType               None\n",
      "MasVnrArea                0.0\n",
      "ExterQual                  TA\n",
      "ExterCond                  TA\n",
      "Foundation              PConc\n",
      "BsmtQual                   TA\n",
      "BsmtCond                   TA\n",
      "BsmtExposure               Gd\n",
      "BsmtFinType1              ALQ\n",
      "BsmtFinSF1             1035.0\n",
      "BsmtFinType2              Unf\n",
      "BsmtFinSF2                0.0\n",
      "BsmtUnfSF               545.0\n",
      "TotalBsmtSF            1580.0\n",
      "Heating                  GasA\n",
      "HeatingQC                  Ex\n",
      "CentralAir                  Y\n",
      "Electrical              SBrkr\n",
      "1stFlrSF                 1518\n",
      "2ndFlrSF                    0\n",
      "LowQualFinSF                0\n",
      "GrLivArea                1518\n",
      "BsmtFullBath              1.0\n",
      "BsmtHalfBath              0.0\n",
      "FullBath                    1\n",
      "HalfBath                    0\n",
      "BedroomAbvGr                2\n",
      "KitchenAbvGr                1\n",
      "KitchenQual                Fa\n",
      "TotRmsAbvGrd                5\n",
      "Functional                Typ\n",
      "Fireplaces                  2\n",
      "FireplaceQu                Gd\n",
      "GarageType                 NA\n",
      "GarageYrBlt              1940\n",
      "GarageFinish               NA\n",
      "GarageCars                0.0\n",
      "GarageArea                0.0\n",
      "GarageQual                 NA\n",
      "GarageCond                 NA\n",
      "PavedDrive                  Y\n",
      "WoodDeckSF                  0\n",
      "OpenPorchSF                39\n",
      "EnclosedPorch               0\n",
      "3SsnPorch                   0\n",
      "ScreenPorch                 0\n",
      "PoolArea                    0\n",
      "PoolQC                     NA\n",
      "Fence                      NA\n",
      "MiscFeature                NA\n",
      "MiscVal                     0\n",
      "MoSold                      1\n",
      "YrSold                   2008\n",
      "SaleType                   WD\n",
      "SaleCondition          Normal\n",
      "lot_frontage_missing    False\n",
      "has_garage                  0\n",
      "has_basement                1\n"
     ]
    }
   ],
   "source": [
    "print(test_df[test_df[\"Exterior1st\"].isna()].transpose())"
   ]
  },
  {
   "cell_type": "code",
   "execution_count": 8,
   "id": "275a43d4-2497-46da-bf8f-2ef52cd9ff97",
   "metadata": {},
   "outputs": [
    {
     "data": {
      "text/plain": [
       "Exterior1st\n",
       "VinylSd    515\n",
       "HdBoard    222\n",
       "MetalSd    220\n",
       "Wd Sdng    206\n",
       "Plywood    108\n",
       "CemntBd     61\n",
       "BrkFace     50\n",
       "WdShing     26\n",
       "Stucco      25\n",
       "AsbShng     20\n",
       "BrkComm      2\n",
       "Stone        2\n",
       "AsphShn      1\n",
       "CBlock       1\n",
       "ImStucc      1\n",
       "Name: count, dtype: int64"
      ]
     },
     "execution_count": 8,
     "metadata": {},
     "output_type": "execute_result"
    }
   ],
   "source": [
    "train_df[\"Exterior1st\"].value_counts()"
   ]
  },
  {
   "cell_type": "code",
   "execution_count": 9,
   "id": "5ea28b72-89af-49f1-83b5-7aa8831091cc",
   "metadata": {},
   "outputs": [
    {
     "data": {
      "text/plain": [
       "Exterior2nd\n",
       "VinylSd    504\n",
       "MetalSd    214\n",
       "HdBoard    207\n",
       "Wd Sdng    197\n",
       "Plywood    142\n",
       "CmentBd     60\n",
       "Wd Shng     38\n",
       "Stucco      26\n",
       "BrkFace     25\n",
       "AsbShng     20\n",
       "ImStucc     10\n",
       "Brk Cmn      7\n",
       "Stone        5\n",
       "AsphShn      3\n",
       "CBlock       1\n",
       "Other        1\n",
       "Name: count, dtype: int64"
      ]
     },
     "execution_count": 9,
     "metadata": {},
     "output_type": "execute_result"
    }
   ],
   "source": [
    "train_df[\"Exterior2nd\"].value_counts()"
   ]
  },
  {
   "cell_type": "code",
   "execution_count": 10,
   "id": "92a3340e-c8ee-477d-9910-f4755540e40c",
   "metadata": {},
   "outputs": [],
   "source": [
    "def get_exterior_group(material):\n",
    "    \"\"\"\n",
    "    Groups exterior materials into broader categories.\n",
    "    \n",
    "    Categories:\n",
    "    - Wood_Based: Natural wood and wood-derived materials\n",
    "    - Masonry: Stone, brick, and cement-based materials\n",
    "    - Synthetic: Modern manufactured materials\n",
    "    - Metal: Metal-based materials\n",
    "    - Other: Miscellaneous or uncommon materials\n",
    "    \"\"\"\n",
    "    wood_based = ['Wd Sdng', 'WdShing', 'Plywood', 'HdBoard']\n",
    "    masonry = ['BrkComm', 'BrkFace', 'Stone', 'CBlock', 'CemntBd', 'Stucco', 'PreCast']\n",
    "    synthetic = ['VinylSd', 'ImStucc', 'AsbShng', 'AsphShn']\n",
    "    metal = ['MetalSd']\n",
    "    \n",
    "    if material in wood_based:\n",
    "        return 'Wood_Based'\n",
    "    elif material in masonry:\n",
    "        return 'Masonry'\n",
    "    elif material in synthetic:\n",
    "        return 'Synthetic'\n",
    "    elif material in metal:\n",
    "        return 'Metal'\n",
    "    else:\n",
    "        return 'Other'\n",
    "\n",
    "# Dictionary explaining material categories\n",
    "material_categories = {\n",
    "    'Wood_Based': {\n",
    "        'Wd Sdng': 'Wood Siding',\n",
    "        'WdShing': 'Wood Shingles',\n",
    "        'Plywood': 'Plywood',\n",
    "        'HdBoard': 'Hard Board'\n",
    "    },\n",
    "    'Masonry': {\n",
    "        'BrkComm': 'Brick Common',\n",
    "        'BrkFace': 'Brick Face',\n",
    "        'Stone': 'Stone',\n",
    "        'CBlock': 'Cinder Block',\n",
    "        'CemntBd': 'Cement Board',\n",
    "        'Stucco': 'Stucco',\n",
    "        'PreCast': 'PreCast'\n",
    "    },\n",
    "    'Synthetic': {\n",
    "        'VinylSd': 'Vinyl Siding',\n",
    "        'ImStucc': 'Imitation Stucco',\n",
    "        'AsbShng': 'Asbestos Shingles',\n",
    "        'AsphShn': 'Asphalt Shingles'\n",
    "    },\n",
    "    'Metal': {\n",
    "        'MetalSd': 'Metal Siding'\n",
    "    },\n",
    "    'Other': {\n",
    "        'Other': 'Other'\n",
    "    }\n",
    "}\n",
    "\n",
    "def apply_exterior_grouping(df):\n",
    "    \"\"\"\n",
    "    Applies the exterior grouping to both Exterior1st and Exterior2nd columns.\n",
    "    Creates new columns with the grouped categories.\n",
    "    \"\"\"\n",
    "    df['Exterior1st_Group'] = df['Exterior1st'].apply(get_exterior_group)\n",
    "    df['Exterior2nd_Group'] = df['Exterior2nd'].apply(get_exterior_group)\n",
    "    return df\n",
    "\n",
    "# Example usage:\n",
    "# df = apply_exterior_grouping(df)"
   ]
  },
  {
   "cell_type": "code",
   "execution_count": 11,
   "id": "136c0b93-9e54-4ae8-ac7a-33de8292b8df",
   "metadata": {},
   "outputs": [],
   "source": [
    "train_df = apply_exterior_grouping(train_df)"
   ]
  },
  {
   "cell_type": "code",
   "execution_count": 12,
   "id": "c41483cc-41f1-41bc-b2d2-f4f39f49aec0",
   "metadata": {},
   "outputs": [
    {
     "data": {
      "text/plain": [
       "Exterior1st_Group\n",
       "Wood_Based    562\n",
       "Synthetic     537\n",
       "Metal         220\n",
       "Masonry       141\n",
       "Name: count, dtype: int64"
      ]
     },
     "execution_count": 12,
     "metadata": {},
     "output_type": "execute_result"
    }
   ],
   "source": [
    "train_df['Exterior1st_Group'].value_counts()"
   ]
  },
  {
   "cell_type": "code",
   "execution_count": 13,
   "id": "7b9fa17c-e33b-431b-b8cf-a721cb7c1b2c",
   "metadata": {},
   "outputs": [
    {
     "data": {
      "text/plain": [
       "Exterior2nd_Group\n",
       "Wood_Based    546\n",
       "Synthetic     537\n",
       "Metal         214\n",
       "Other         106\n",
       "Masonry        57\n",
       "Name: count, dtype: int64"
      ]
     },
     "execution_count": 13,
     "metadata": {},
     "output_type": "execute_result"
    }
   ],
   "source": [
    "train_df['Exterior2nd_Group'].value_counts()"
   ]
  },
  {
   "cell_type": "code",
   "execution_count": 14,
   "id": "6a5a0971-b189-45e7-bd72-07c2e2394c6a",
   "metadata": {},
   "outputs": [
    {
     "data": {
      "text/html": [
       "<div>\n",
       "<style scoped>\n",
       "    .dataframe tbody tr th:only-of-type {\n",
       "        vertical-align: middle;\n",
       "    }\n",
       "\n",
       "    .dataframe tbody tr th {\n",
       "        vertical-align: top;\n",
       "    }\n",
       "\n",
       "    .dataframe thead th {\n",
       "        text-align: right;\n",
       "    }\n",
       "</style>\n",
       "<table border=\"1\" class=\"dataframe\">\n",
       "  <thead>\n",
       "    <tr style=\"text-align: right;\">\n",
       "      <th>Exterior1st_Group</th>\n",
       "      <th>Masonry</th>\n",
       "      <th>Metal</th>\n",
       "      <th>Synthetic</th>\n",
       "      <th>Wood_Based</th>\n",
       "    </tr>\n",
       "    <tr>\n",
       "      <th>ExterQual</th>\n",
       "      <th></th>\n",
       "      <th></th>\n",
       "      <th></th>\n",
       "      <th></th>\n",
       "    </tr>\n",
       "  </thead>\n",
       "  <tbody>\n",
       "    <tr>\n",
       "      <th>Fa</th>\n",
       "      <td>1</td>\n",
       "      <td>2</td>\n",
       "      <td>5</td>\n",
       "      <td>6</td>\n",
       "    </tr>\n",
       "    <tr>\n",
       "      <th>TA</th>\n",
       "      <td>85</td>\n",
       "      <td>176</td>\n",
       "      <td>181</td>\n",
       "      <td>464</td>\n",
       "    </tr>\n",
       "    <tr>\n",
       "      <th>Gd</th>\n",
       "      <td>38</td>\n",
       "      <td>34</td>\n",
       "      <td>327</td>\n",
       "      <td>89</td>\n",
       "    </tr>\n",
       "    <tr>\n",
       "      <th>Ex</th>\n",
       "      <td>17</td>\n",
       "      <td>8</td>\n",
       "      <td>24</td>\n",
       "      <td>3</td>\n",
       "    </tr>\n",
       "  </tbody>\n",
       "</table>\n",
       "</div>"
      ],
      "text/plain": [
       "Exterior1st_Group  Masonry  Metal  Synthetic  Wood_Based\n",
       "ExterQual                                               \n",
       "Fa                       1      2          5           6\n",
       "TA                      85    176        181         464\n",
       "Gd                      38     34        327          89\n",
       "Ex                      17      8         24           3"
      ]
     },
     "execution_count": 14,
     "metadata": {},
     "output_type": "execute_result"
    }
   ],
   "source": [
    "pd.crosstab(train_df[\"ExterQual\"], train_df[\"Exterior1st_Group\"])"
   ]
  },
  {
   "cell_type": "code",
   "execution_count": 15,
   "id": "6562e6fc-86c3-4eb0-9172-fab225dc148e",
   "metadata": {},
   "outputs": [
    {
     "data": {
      "text/html": [
       "<div>\n",
       "<style scoped>\n",
       "    .dataframe tbody tr th:only-of-type {\n",
       "        vertical-align: middle;\n",
       "    }\n",
       "\n",
       "    .dataframe tbody tr th {\n",
       "        vertical-align: top;\n",
       "    }\n",
       "\n",
       "    .dataframe thead th {\n",
       "        text-align: right;\n",
       "    }\n",
       "</style>\n",
       "<table border=\"1\" class=\"dataframe\">\n",
       "  <thead>\n",
       "    <tr style=\"text-align: right;\">\n",
       "      <th>Exterior2nd_Group</th>\n",
       "      <th>Masonry</th>\n",
       "      <th>Metal</th>\n",
       "      <th>Other</th>\n",
       "      <th>Synthetic</th>\n",
       "      <th>Wood_Based</th>\n",
       "    </tr>\n",
       "    <tr>\n",
       "      <th>ExterQual</th>\n",
       "      <th></th>\n",
       "      <th></th>\n",
       "      <th></th>\n",
       "      <th></th>\n",
       "      <th></th>\n",
       "    </tr>\n",
       "  </thead>\n",
       "  <tbody>\n",
       "    <tr>\n",
       "      <th>Fa</th>\n",
       "      <td>1</td>\n",
       "      <td>2</td>\n",
       "      <td>1</td>\n",
       "      <td>5</td>\n",
       "      <td>5</td>\n",
       "    </tr>\n",
       "    <tr>\n",
       "      <th>TA</th>\n",
       "      <td>43</td>\n",
       "      <td>170</td>\n",
       "      <td>56</td>\n",
       "      <td>181</td>\n",
       "      <td>456</td>\n",
       "    </tr>\n",
       "    <tr>\n",
       "      <th>Gd</th>\n",
       "      <td>12</td>\n",
       "      <td>34</td>\n",
       "      <td>32</td>\n",
       "      <td>327</td>\n",
       "      <td>83</td>\n",
       "    </tr>\n",
       "    <tr>\n",
       "      <th>Ex</th>\n",
       "      <td>1</td>\n",
       "      <td>8</td>\n",
       "      <td>17</td>\n",
       "      <td>24</td>\n",
       "      <td>2</td>\n",
       "    </tr>\n",
       "  </tbody>\n",
       "</table>\n",
       "</div>"
      ],
      "text/plain": [
       "Exterior2nd_Group  Masonry  Metal  Other  Synthetic  Wood_Based\n",
       "ExterQual                                                      \n",
       "Fa                       1      2      1          5           5\n",
       "TA                      43    170     56        181         456\n",
       "Gd                      12     34     32        327          83\n",
       "Ex                       1      8     17         24           2"
      ]
     },
     "execution_count": 15,
     "metadata": {},
     "output_type": "execute_result"
    }
   ],
   "source": [
    "pd.crosstab(train_df[\"ExterQual\"], train_df[\"Exterior2nd_Group\"])"
   ]
  },
  {
   "cell_type": "code",
   "execution_count": 16,
   "id": "be99841d-01d5-41bf-a7c3-02401de94321",
   "metadata": {},
   "outputs": [
    {
     "data": {
      "text/html": [
       "<div>\n",
       "<style scoped>\n",
       "    .dataframe tbody tr th:only-of-type {\n",
       "        vertical-align: middle;\n",
       "    }\n",
       "\n",
       "    .dataframe tbody tr th {\n",
       "        vertical-align: top;\n",
       "    }\n",
       "\n",
       "    .dataframe thead th {\n",
       "        text-align: right;\n",
       "    }\n",
       "</style>\n",
       "<table border=\"1\" class=\"dataframe\">\n",
       "  <thead>\n",
       "    <tr style=\"text-align: right;\">\n",
       "      <th>Exterior1st_Group</th>\n",
       "      <th>Masonry</th>\n",
       "      <th>Metal</th>\n",
       "      <th>Synthetic</th>\n",
       "      <th>Wood_Based</th>\n",
       "    </tr>\n",
       "    <tr>\n",
       "      <th>MasVnrType</th>\n",
       "      <th></th>\n",
       "      <th></th>\n",
       "      <th></th>\n",
       "      <th></th>\n",
       "    </tr>\n",
       "  </thead>\n",
       "  <tbody>\n",
       "    <tr>\n",
       "      <th>BrkCmn</th>\n",
       "      <td>1</td>\n",
       "      <td>2</td>\n",
       "      <td>2</td>\n",
       "      <td>10</td>\n",
       "    </tr>\n",
       "    <tr>\n",
       "      <th>BrkFace</th>\n",
       "      <td>15</td>\n",
       "      <td>58</td>\n",
       "      <td>178</td>\n",
       "      <td>194</td>\n",
       "    </tr>\n",
       "    <tr>\n",
       "      <th>None</th>\n",
       "      <td>106</td>\n",
       "      <td>155</td>\n",
       "      <td>265</td>\n",
       "      <td>346</td>\n",
       "    </tr>\n",
       "    <tr>\n",
       "      <th>Stone</th>\n",
       "      <td>19</td>\n",
       "      <td>5</td>\n",
       "      <td>92</td>\n",
       "      <td>12</td>\n",
       "    </tr>\n",
       "  </tbody>\n",
       "</table>\n",
       "</div>"
      ],
      "text/plain": [
       "Exterior1st_Group  Masonry  Metal  Synthetic  Wood_Based\n",
       "MasVnrType                                              \n",
       "BrkCmn                   1      2          2          10\n",
       "BrkFace                 15     58        178         194\n",
       "None                   106    155        265         346\n",
       "Stone                   19      5         92          12"
      ]
     },
     "execution_count": 16,
     "metadata": {},
     "output_type": "execute_result"
    }
   ],
   "source": [
    "pd.crosstab(train_df[\"MasVnrType\"], train_df[\"Exterior1st_Group\"])"
   ]
  },
  {
   "cell_type": "code",
   "execution_count": 17,
   "id": "1f6f330c-0f92-4098-9ef3-76d75c07186e",
   "metadata": {},
   "outputs": [
    {
     "data": {
      "text/html": [
       "<div>\n",
       "<style scoped>\n",
       "    .dataframe tbody tr th:only-of-type {\n",
       "        vertical-align: middle;\n",
       "    }\n",
       "\n",
       "    .dataframe tbody tr th {\n",
       "        vertical-align: top;\n",
       "    }\n",
       "\n",
       "    .dataframe thead th {\n",
       "        text-align: right;\n",
       "    }\n",
       "</style>\n",
       "<table border=\"1\" class=\"dataframe\">\n",
       "  <thead>\n",
       "    <tr style=\"text-align: right;\">\n",
       "      <th>Exterior1st_Group</th>\n",
       "      <th>Masonry</th>\n",
       "      <th>Metal</th>\n",
       "      <th>Synthetic</th>\n",
       "      <th>Wood_Based</th>\n",
       "    </tr>\n",
       "    <tr>\n",
       "      <th>ExterCond</th>\n",
       "      <th></th>\n",
       "      <th></th>\n",
       "      <th></th>\n",
       "      <th></th>\n",
       "    </tr>\n",
       "  </thead>\n",
       "  <tbody>\n",
       "    <tr>\n",
       "      <th>Po</th>\n",
       "      <td>0</td>\n",
       "      <td>0</td>\n",
       "      <td>0</td>\n",
       "      <td>1</td>\n",
       "    </tr>\n",
       "    <tr>\n",
       "      <th>Fa</th>\n",
       "      <td>7</td>\n",
       "      <td>4</td>\n",
       "      <td>6</td>\n",
       "      <td>11</td>\n",
       "    </tr>\n",
       "    <tr>\n",
       "      <th>TA</th>\n",
       "      <td>121</td>\n",
       "      <td>175</td>\n",
       "      <td>495</td>\n",
       "      <td>491</td>\n",
       "    </tr>\n",
       "    <tr>\n",
       "      <th>Gd</th>\n",
       "      <td>13</td>\n",
       "      <td>40</td>\n",
       "      <td>35</td>\n",
       "      <td>58</td>\n",
       "    </tr>\n",
       "    <tr>\n",
       "      <th>Ex</th>\n",
       "      <td>0</td>\n",
       "      <td>1</td>\n",
       "      <td>1</td>\n",
       "      <td>1</td>\n",
       "    </tr>\n",
       "  </tbody>\n",
       "</table>\n",
       "</div>"
      ],
      "text/plain": [
       "Exterior1st_Group  Masonry  Metal  Synthetic  Wood_Based\n",
       "ExterCond                                               \n",
       "Po                       0      0          0           1\n",
       "Fa                       7      4          6          11\n",
       "TA                     121    175        495         491\n",
       "Gd                      13     40         35          58\n",
       "Ex                       0      1          1           1"
      ]
     },
     "execution_count": 17,
     "metadata": {},
     "output_type": "execute_result"
    }
   ],
   "source": [
    "pd.crosstab(train_df[\"ExterCond\"], train_df[\"Exterior1st_Group\"])"
   ]
  },
  {
   "cell_type": "code",
   "execution_count": 18,
   "id": "313529a2-4d99-44b2-b5fb-a53cfbdb14e2",
   "metadata": {},
   "outputs": [
    {
     "data": {
      "text/html": [
       "<div>\n",
       "<style scoped>\n",
       "    .dataframe tbody tr th:only-of-type {\n",
       "        vertical-align: middle;\n",
       "    }\n",
       "\n",
       "    .dataframe tbody tr th {\n",
       "        vertical-align: top;\n",
       "    }\n",
       "\n",
       "    .dataframe thead th {\n",
       "        text-align: right;\n",
       "    }\n",
       "</style>\n",
       "<table border=\"1\" class=\"dataframe\">\n",
       "  <thead>\n",
       "    <tr style=\"text-align: right;\">\n",
       "      <th>Exterior2nd_Group</th>\n",
       "      <th>Masonry</th>\n",
       "      <th>Metal</th>\n",
       "      <th>Other</th>\n",
       "      <th>Synthetic</th>\n",
       "      <th>Wood_Based</th>\n",
       "    </tr>\n",
       "    <tr>\n",
       "      <th>ExterCond</th>\n",
       "      <th></th>\n",
       "      <th></th>\n",
       "      <th></th>\n",
       "      <th></th>\n",
       "      <th></th>\n",
       "    </tr>\n",
       "  </thead>\n",
       "  <tbody>\n",
       "    <tr>\n",
       "      <th>Po</th>\n",
       "      <td>0</td>\n",
       "      <td>0</td>\n",
       "      <td>0</td>\n",
       "      <td>0</td>\n",
       "      <td>1</td>\n",
       "    </tr>\n",
       "    <tr>\n",
       "      <th>Fa</th>\n",
       "      <td>4</td>\n",
       "      <td>4</td>\n",
       "      <td>3</td>\n",
       "      <td>7</td>\n",
       "      <td>10</td>\n",
       "    </tr>\n",
       "    <tr>\n",
       "      <th>TA</th>\n",
       "      <td>48</td>\n",
       "      <td>170</td>\n",
       "      <td>96</td>\n",
       "      <td>493</td>\n",
       "      <td>475</td>\n",
       "    </tr>\n",
       "    <tr>\n",
       "      <th>Gd</th>\n",
       "      <td>5</td>\n",
       "      <td>39</td>\n",
       "      <td>7</td>\n",
       "      <td>36</td>\n",
       "      <td>59</td>\n",
       "    </tr>\n",
       "    <tr>\n",
       "      <th>Ex</th>\n",
       "      <td>0</td>\n",
       "      <td>1</td>\n",
       "      <td>0</td>\n",
       "      <td>1</td>\n",
       "      <td>1</td>\n",
       "    </tr>\n",
       "  </tbody>\n",
       "</table>\n",
       "</div>"
      ],
      "text/plain": [
       "Exterior2nd_Group  Masonry  Metal  Other  Synthetic  Wood_Based\n",
       "ExterCond                                                      \n",
       "Po                       0      0      0          0           1\n",
       "Fa                       4      4      3          7          10\n",
       "TA                      48    170     96        493         475\n",
       "Gd                       5     39      7         36          59\n",
       "Ex                       0      1      0          1           1"
      ]
     },
     "execution_count": 18,
     "metadata": {},
     "output_type": "execute_result"
    }
   ],
   "source": [
    "pd.crosstab(train_df[\"ExterCond\"], train_df[\"Exterior2nd_Group\"])"
   ]
  },
  {
   "cell_type": "code",
   "execution_count": 19,
   "id": "865e641d-a16d-47dd-9573-c0e76d0d322c",
   "metadata": {},
   "outputs": [],
   "source": [
    "# I want to find all houses built OR remodeled within 5 years of the house,\n",
    "# from the same neighborhood, and with same exterior quality and condition,\n",
    "# and take their modes for Exterior1st and Exterior2nd to impute missing values"
   ]
  },
  {
   "cell_type": "code",
   "execution_count": 20,
   "id": "715ac1c4-2fe3-4cf4-af79-3fda08da76a3",
   "metadata": {},
   "outputs": [],
   "source": [
    "within_5_years_of_year_built = (train_df[\"YearBuilt\"] >= 1935) & (train_df[\"YearBuilt\"] <= 1945)\n",
    "within_5_years_of_year_remodeled = (train_df[\"YearRemodAdd\"] >= 2002) & (train_df[\"YearRemodAdd\"] <= 2012)\n",
    "is_from_clear_cr = train_df[\"Neighborhood\"].astype(str) == \"Edwards\"\n",
    "has_exter_qual_ta = train_df[\"ExterQual\"].astype(str) == \"TA\"\n",
    "has_exter_cond_ta = train_df[\"ExterCond\"].astype(str) == \"TA\""
   ]
  },
  {
   "cell_type": "code",
   "execution_count": 21,
   "id": "5cc515bc-13d0-4823-998c-bbc649b2daad",
   "metadata": {},
   "outputs": [],
   "source": [
    "similar_houses = train_df[(within_5_years_of_year_built  | \\\n",
    "                            within_5_years_of_year_remodeled) & \\\n",
    "                            is_from_clear_cr & \\\n",
    "                            has_exter_qual_ta & \\\n",
    "                            has_exter_cond_ta]"
   ]
  },
  {
   "cell_type": "code",
   "execution_count": 22,
   "id": "aac96b4b-6ac6-43e2-9710-31a82df3adfa",
   "metadata": {},
   "outputs": [
    {
     "data": {
      "text/plain": [
       "(29, 86)"
      ]
     },
     "execution_count": 22,
     "metadata": {},
     "output_type": "execute_result"
    }
   ],
   "source": [
    "similar_houses.shape"
   ]
  },
  {
   "cell_type": "code",
   "execution_count": 23,
   "id": "a93bdeeb-1568-4281-b9e0-938a20c67e8a",
   "metadata": {},
   "outputs": [],
   "source": [
    "counts = pd.DataFrame({\n",
    "    'Exterior1st': similar_houses[\"Exterior1st\"].value_counts(),\n",
    "    'Exterior2nd': similar_houses[\"Exterior2nd\"].value_counts()\n",
    "}).fillna(0)\n",
    "counts[\"Exterior1st\"] = counts[\"Exterior1st\"].astype(\"int32\")\n",
    "counts[\"Exterior2nd\"] = counts[\"Exterior2nd\"].astype(\"int32\")\n",
    "counts = counts.sort_values(\"Exterior1st\", ascending=False)"
   ]
  },
  {
   "cell_type": "code",
   "execution_count": 24,
   "id": "4d3201a2-278c-4b68-a44e-d081415bab7f",
   "metadata": {},
   "outputs": [
    {
     "name": "stdout",
     "output_type": "stream",
     "text": [
      "         Exterior1st  Exterior2nd\n",
      "VinylSd           12           12\n",
      "MetalSd            7            7\n",
      "Wd Sdng            4            4\n",
      "WdShing            3            0\n",
      "Stucco             1            1\n",
      "Plywood            1            1\n",
      "HdBoard            1            1\n",
      "Wd Shng            0            3\n",
      "Stone              0            0\n",
      "Other              0            0\n",
      "AsbShng            0            0\n",
      "AsphShn            0            0\n",
      "CmentBd            0            0\n",
      "CemntBd            0            0\n",
      "CBlock             0            0\n",
      "BrkFace            0            0\n",
      "BrkComm            0            0\n",
      "Brk Cmn            0            0\n",
      "ImStucc            0            0\n"
     ]
    }
   ],
   "source": [
    "print(counts)"
   ]
  },
  {
   "cell_type": "code",
   "execution_count": 25,
   "id": "651a1c35-63a9-4727-b3be-8cc88ec7b285",
   "metadata": {},
   "outputs": [
    {
     "data": {
      "text/plain": [
       "'VinylSd'"
      ]
     },
     "execution_count": 25,
     "metadata": {},
     "output_type": "execute_result"
    }
   ],
   "source": [
    "similar_houses[\"Exterior1st\"].mode()[0]"
   ]
  },
  {
   "cell_type": "code",
   "execution_count": 26,
   "id": "01d51a51-d59a-4ecf-8d95-e78c64078dbb",
   "metadata": {},
   "outputs": [
    {
     "data": {
      "text/plain": [
       "Exterior2nd\n",
       "VinylSd    12\n",
       "MetalSd     7\n",
       "Wd Sdng     4\n",
       "Wd Shng     3\n",
       "HdBoard     1\n",
       "Plywood     1\n",
       "Stucco      1\n",
       "AsbShng     0\n",
       "AsphShn     0\n",
       "Brk Cmn     0\n",
       "BrkFace     0\n",
       "CBlock      0\n",
       "CmentBd     0\n",
       "ImStucc     0\n",
       "Other       0\n",
       "Stone       0\n",
       "Name: count, dtype: int64"
      ]
     },
     "execution_count": 26,
     "metadata": {},
     "output_type": "execute_result"
    }
   ],
   "source": [
    "similar_houses[\"Exterior2nd\"].value_counts()"
   ]
  },
  {
   "cell_type": "code",
   "execution_count": 27,
   "id": "f0b0653b-a69e-4702-af11-b7a547c7f3a5",
   "metadata": {},
   "outputs": [
    {
     "data": {
      "text/plain": [
       "'VinylSd'"
      ]
     },
     "execution_count": 27,
     "metadata": {},
     "output_type": "execute_result"
    }
   ],
   "source": [
    "similar_houses[\"Exterior2nd\"].mode()[0]"
   ]
  }
 ],
 "metadata": {
  "kernelspec": {
   "display_name": "Python 3 (ipykernel)",
   "language": "python",
   "name": "python3"
  },
  "language_info": {
   "codemirror_mode": {
    "name": "ipython",
    "version": 3
   },
   "file_extension": ".py",
   "mimetype": "text/x-python",
   "name": "python",
   "nbconvert_exporter": "python",
   "pygments_lexer": "ipython3",
   "version": "3.12.7"
  }
 },
 "nbformat": 4,
 "nbformat_minor": 5
}
